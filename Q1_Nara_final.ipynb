{
 "cells": [
  {
   "cell_type": "code",
   "execution_count": 1,
   "metadata": {},
   "outputs": [],
   "source": [
    "from gurobipy import GRB\n",
    "import gurobipy as gb\n"
   ]
  },
  {
   "cell_type": "markdown",
   "metadata": {},
   "source": [
    "# QUESTION 1"
   ]
  },
  {
   "cell_type": "markdown",
   "metadata": {},
   "source": [
    "## Extracting the necessary data"
   ]
  },
  {
   "cell_type": "code",
   "execution_count": 2,
   "metadata": {},
   "outputs": [
    {
     "data": {
      "text/plain": [
       "dict_keys(['direct_capacity', 'transship_capacity_centers', 'transship_capacity_facilities', 'cost_production_refinement', 'cost_production_transshipment', 'cost_transshipment_refinement', 'refinement_demand'])"
      ]
     },
     "execution_count": 2,
     "metadata": {},
     "output_type": "execute_result"
    }
   ],
   "source": [
    "import pandas as pd\n",
    "\n",
    "# Load data files\n",
    "file_paths = {\n",
    "    \"direct_capacity\": \"https://raw.githubusercontent.com/annwanginnt/Operation-Research/main/Capacity_for_Direct_Production_Facilities.csv\",\n",
    "    \"transship_capacity_centers\": \"https://raw.githubusercontent.com/annwanginnt/Operation-Research/main/Capacity_for_Transship_Distribution_Centers.csv\",\n",
    "    \"transship_capacity_facilities\": \"https://raw.githubusercontent.com/annwanginnt/Operation-Research/main/Capacity_for_Transship_Production_Facilities.csv\",\n",
    "    \"cost_production_refinement\": \"https://raw.githubusercontent.com/annwanginnt/Operation-Research/main/Cost_Production_to_Refinement.csv\",\n",
    "    \"cost_production_transshipment\": \"https://raw.githubusercontent.com/annwanginnt/Operation-Research/main/Cost_Production_to_Transshipment.csv\",\n",
    "    \"cost_transshipment_refinement\": \"https://raw.githubusercontent.com/annwanginnt/Operation-Research/main/Cost_Transshipment_to_Refinement.csv\",\n",
    "    \"refinement_demand\": \"https://raw.githubusercontent.com/annwanginnt/Operation-Research/main/Refinement_Demand.csv\",\n",
    "}\n",
    "\n",
    "# Reading the data\n",
    "data = {key: pd.read_csv(file_paths[key]) for key in file_paths}\n",
    "\n",
    "# Displaying the keys to understand the structure of the data\n",
    "data.keys()  \n"
   ]
  },
  {
   "cell_type": "code",
   "execution_count": 3,
   "metadata": {},
   "outputs": [
    {
     "data": {
      "text/plain": [
       "{'direct_capacity':    ProductionFacility  Capacity\n",
       " 0                   1       462\n",
       " 1                   2       103\n",
       " 2                   3       460\n",
       " 3                   4       325\n",
       " 4                   5       227,\n",
       " 'transship_capacity_centers':    TransshipmentHub  Capacity\n",
       " 0                 1      1317\n",
       " 1                 2      1453,\n",
       " 'transship_capacity_facilities':    ProductionFacility  Capacity\n",
       " 0                   1       374\n",
       " 1                   2       444\n",
       " 2                   3       395\n",
       " 3                   4       245\n",
       " 4                   5       378,\n",
       " 'cost_production_refinement':    ProductionFacility  RefinementCenter      Cost\n",
       " 0                   1                 1  4.252733\n",
       " 1                   1                 2  4.567726\n",
       " 2                   1                 3  4.696484\n",
       " 3                   1                 4  2.678741\n",
       " 4                   1                 5  4.272451,\n",
       " 'cost_production_transshipment':    ProductionFacility  TransshipmentHub      Cost\n",
       " 0                   1                 1  2.378826\n",
       " 1                   1                 2  0.863842\n",
       " 2                   2                 1  1.666982\n",
       " 3                   2                 2  2.119488\n",
       " 4                   3                 1  2.174880,\n",
       " 'cost_transshipment_refinement':    TransshipmentHub  RefinementCenter      Cost\n",
       " 0                 1                 1  1.572329\n",
       " 1                 1                 2  3.465474\n",
       " 2                 1                 3  2.244062\n",
       " 3                 1                 4  3.773839\n",
       " 4                 1                 5  3.262652,\n",
       " 'refinement_demand':    RefinementCenter  Demand\n",
       " 0                 1    1537\n",
       " 1                 2    1748\n",
       " 2                 3    1940\n",
       " 3                 4    1838\n",
       " 4                 5    1665}"
      ]
     },
     "execution_count": 3,
     "metadata": {},
     "output_type": "execute_result"
    }
   ],
   "source": [
    "# Displaying the first few rows of each dataset to understand their structure\n",
    "data_overview = {key: data[key].head() for key in data}\n",
    "\n",
    "data_overview\n"
   ]
  },
  {
   "cell_type": "code",
   "execution_count": 4,
   "metadata": {},
   "outputs": [
    {
     "data": {
      "text/html": [
       "<div>\n",
       "<style scoped>\n",
       "    .dataframe tbody tr th:only-of-type {\n",
       "        vertical-align: middle;\n",
       "    }\n",
       "\n",
       "    .dataframe tbody tr th {\n",
       "        vertical-align: top;\n",
       "    }\n",
       "\n",
       "    .dataframe thead th {\n",
       "        text-align: right;\n",
       "    }\n",
       "</style>\n",
       "<table border=\"1\" class=\"dataframe\">\n",
       "  <thead>\n",
       "    <tr style=\"text-align: right;\">\n",
       "      <th></th>\n",
       "      <th>RefinementCenter</th>\n",
       "      <th>Demand</th>\n",
       "    </tr>\n",
       "  </thead>\n",
       "  <tbody>\n",
       "    <tr>\n",
       "      <th>0</th>\n",
       "      <td>1</td>\n",
       "      <td>1537</td>\n",
       "    </tr>\n",
       "    <tr>\n",
       "      <th>1</th>\n",
       "      <td>2</td>\n",
       "      <td>1748</td>\n",
       "    </tr>\n",
       "    <tr>\n",
       "      <th>2</th>\n",
       "      <td>3</td>\n",
       "      <td>1940</td>\n",
       "    </tr>\n",
       "    <tr>\n",
       "      <th>3</th>\n",
       "      <td>4</td>\n",
       "      <td>1838</td>\n",
       "    </tr>\n",
       "    <tr>\n",
       "      <th>4</th>\n",
       "      <td>5</td>\n",
       "      <td>1665</td>\n",
       "    </tr>\n",
       "  </tbody>\n",
       "</table>\n",
       "</div>"
      ],
      "text/plain": [
       "   RefinementCenter  Demand\n",
       "0                 1    1537\n",
       "1                 2    1748\n",
       "2                 3    1940\n",
       "3                 4    1838\n",
       "4                 5    1665"
      ]
     },
     "execution_count": 4,
     "metadata": {},
     "output_type": "execute_result"
    }
   ],
   "source": [
    "data['refinement_demand']"
   ]
  },
  {
   "cell_type": "code",
   "execution_count": 5,
   "metadata": {},
   "outputs": [
    {
     "data": {
      "text/html": [
       "<div>\n",
       "<style scoped>\n",
       "    .dataframe tbody tr th:only-of-type {\n",
       "        vertical-align: middle;\n",
       "    }\n",
       "\n",
       "    .dataframe tbody tr th {\n",
       "        vertical-align: top;\n",
       "    }\n",
       "\n",
       "    .dataframe thead th {\n",
       "        text-align: right;\n",
       "    }\n",
       "</style>\n",
       "<table border=\"1\" class=\"dataframe\">\n",
       "  <thead>\n",
       "    <tr style=\"text-align: right;\">\n",
       "      <th></th>\n",
       "      <th>ProductionFacility</th>\n",
       "      <th>RefinementCenter</th>\n",
       "      <th>Cost</th>\n",
       "    </tr>\n",
       "  </thead>\n",
       "  <tbody>\n",
       "    <tr>\n",
       "      <th>0</th>\n",
       "      <td>1</td>\n",
       "      <td>1</td>\n",
       "      <td>4.252733</td>\n",
       "    </tr>\n",
       "    <tr>\n",
       "      <th>1</th>\n",
       "      <td>1</td>\n",
       "      <td>2</td>\n",
       "      <td>4.567726</td>\n",
       "    </tr>\n",
       "    <tr>\n",
       "      <th>2</th>\n",
       "      <td>1</td>\n",
       "      <td>3</td>\n",
       "      <td>4.696484</td>\n",
       "    </tr>\n",
       "    <tr>\n",
       "      <th>3</th>\n",
       "      <td>1</td>\n",
       "      <td>4</td>\n",
       "      <td>2.678741</td>\n",
       "    </tr>\n",
       "    <tr>\n",
       "      <th>4</th>\n",
       "      <td>1</td>\n",
       "      <td>5</td>\n",
       "      <td>4.272451</td>\n",
       "    </tr>\n",
       "    <tr>\n",
       "      <th>...</th>\n",
       "      <td>...</td>\n",
       "      <td>...</td>\n",
       "      <td>...</td>\n",
       "    </tr>\n",
       "    <tr>\n",
       "      <th>120</th>\n",
       "      <td>25</td>\n",
       "      <td>1</td>\n",
       "      <td>4.384176</td>\n",
       "    </tr>\n",
       "    <tr>\n",
       "      <th>121</th>\n",
       "      <td>25</td>\n",
       "      <td>2</td>\n",
       "      <td>5.943448</td>\n",
       "    </tr>\n",
       "    <tr>\n",
       "      <th>122</th>\n",
       "      <td>25</td>\n",
       "      <td>3</td>\n",
       "      <td>4.999220</td>\n",
       "    </tr>\n",
       "    <tr>\n",
       "      <th>123</th>\n",
       "      <td>25</td>\n",
       "      <td>4</td>\n",
       "      <td>4.154833</td>\n",
       "    </tr>\n",
       "    <tr>\n",
       "      <th>124</th>\n",
       "      <td>25</td>\n",
       "      <td>5</td>\n",
       "      <td>5.075280</td>\n",
       "    </tr>\n",
       "  </tbody>\n",
       "</table>\n",
       "<p>125 rows × 3 columns</p>\n",
       "</div>"
      ],
      "text/plain": [
       "     ProductionFacility  RefinementCenter      Cost\n",
       "0                     1                 1  4.252733\n",
       "1                     1                 2  4.567726\n",
       "2                     1                 3  4.696484\n",
       "3                     1                 4  2.678741\n",
       "4                     1                 5  4.272451\n",
       "..                  ...               ...       ...\n",
       "120                  25                 1  4.384176\n",
       "121                  25                 2  5.943448\n",
       "122                  25                 3  4.999220\n",
       "123                  25                 4  4.154833\n",
       "124                  25                 5  5.075280\n",
       "\n",
       "[125 rows x 3 columns]"
      ]
     },
     "execution_count": 5,
     "metadata": {},
     "output_type": "execute_result"
    }
   ],
   "source": [
    "data['cost_production_refinement']"
   ]
  },
  {
   "cell_type": "code",
   "execution_count": 6,
   "metadata": {},
   "outputs": [
    {
     "name": "stdout",
     "output_type": "stream",
     "text": [
      "Capacity of direct facilities: [462 103 460 325 227 217 205 521 548 191 361 411 104 155 285 109 422 438\n",
      " 501 139 462 504 106 132 298]\n",
      "Capacity of transship facilities: [374 444 395 245 378 408 435 175 415 503 184 297 450 169 365]\n",
      "Capacity of distribution center: [1317 1453]\n",
      "\n",
      "\n",
      "number of direct facility: 25\n",
      "number of transship facility: 15\n",
      "number of distirbution center 2\n",
      "number of refinement center: 5\n",
      "\n",
      "\n",
      "Demand:    RefinementCenter  Demand\n",
      "0                 1    1537\n",
      "1                 2    1748\n",
      "2                 3    1940\n",
      "3                 4    1838\n",
      "4                 5    1665\n",
      "\n",
      "\n",
      "total_demand: 8728\n"
     ]
    }
   ],
   "source": [
    "# Extracting the necessary data\n",
    "\n",
    "# Capacities array\n",
    "cap_direct = data['direct_capacity']['Capacity'].values  \n",
    "cap_transship_facilities = data['transship_capacity_facilities']['Capacity'].values\n",
    "cap_transship_centers = data['transship_capacity_centers']['Capacity'].values\n",
    "\n",
    "# Costs dataframe\n",
    "costs_prod_ref = data['cost_production_refinement']\n",
    "costs_prod_trans = data['cost_production_transshipment']\n",
    "costs_trans_ref = data['cost_transshipment_refinement']\n",
    "\n",
    "\n",
    "\n",
    "# Number of facilities and centers\n",
    "num_direct_facilities = len(cap_direct)\n",
    "num_transship_facilities = len(cap_transship_facilities)\n",
    "num_refinement_centers = 5  # Given in the problem statement\n",
    "num_transship_centers = len(cap_transship_centers)\n",
    "\n",
    "# demand \n",
    "demand_data = data[\"refinement_demand\"]\n",
    "\n",
    "#total demand\n",
    "total_demand = demand_data['Demand'].sum()\n",
    "\n",
    "print('Capacity of direct facilities:', cap_direct)\n",
    "print('Capacity of transship facilities:', cap_transship_facilities)\n",
    "print('Capacity of distribution center:',cap_transship_centers)\n",
    "\n",
    "\n",
    "print('\\n')\n",
    "\n",
    "\n",
    "print('number of direct facility:', num_direct_facilities)\n",
    "print('number of transship facility:', num_transship_facilities)\n",
    "print('number of distirbution center', num_transship_centers)\n",
    "print('number of refinement center:',num_refinement_centers)\n",
    "\n",
    "print('\\n')\n",
    "\n",
    "print('Demand:', demand_data)\n",
    "\n",
    "print('\\n')\n",
    "\n",
    "print('total_demand:',total_demand)\n",
    "\n"
   ]
  },
  {
   "cell_type": "markdown",
   "metadata": {},
   "source": [
    "## Create the optimization model"
   ]
  },
  {
   "cell_type": "code",
   "execution_count": 7,
   "metadata": {},
   "outputs": [
    {
     "name": "stdout",
     "output_type": "stream",
     "text": [
      "Set parameter Username\n",
      "Academic license - for non-commercial use only - expires 2025-01-15\n"
     ]
    }
   ],
   "source": [
    "from gurobipy import GRB, Model\n",
    "\n",
    "# Create the optimization model\n",
    "model_a = Model(\"Transshipment Problem\")\n"
   ]
  },
  {
   "cell_type": "markdown",
   "metadata": {},
   "source": [
    "## Define decision variables"
   ]
  },
  {
   "cell_type": "code",
   "execution_count": 8,
   "metadata": {},
   "outputs": [],
   "source": [
    "# Create decision variables\n",
    "# Xij - Quantity from direct production facility i to refinement center j\n",
    "X = model_a.addVars(num_direct_facilities, num_refinement_centers,lb =0, vtype=GRB.CONTINUOUS, name=\"X\")\n",
    "\n",
    "# Yij - Quantity from transshipment production facility i to transshipment center j\n",
    "Y = model_a.addVars(num_transship_facilities, num_transship_centers,lb=0, vtype=GRB.CONTINUOUS, name=\"Y\")\n",
    "\n",
    "# Zjk - Quantity from transshipment center j to refinement center k\n",
    "Z = model_a.addVars(num_transship_centers, num_refinement_centers,lb=0, vtype=GRB.CONTINUOUS, name=\"Z\")"
   ]
  },
  {
   "cell_type": "code",
   "execution_count": 9,
   "metadata": {},
   "outputs": [],
   "source": [
    "#Define cost list\n",
    "cost_values = costs_prod_ref['Cost'].to_numpy()\n",
    "\n",
    "cost_prod_ref = cost_values.reshape((25, 5)).tolist()\n",
    "\n",
    "cost_values = costs_prod_trans['Cost'].to_numpy()\n",
    "\n",
    "cost_prod_trans = cost_values.reshape((15, 2)).tolist()\n",
    "\n",
    "cost_values = costs_trans_ref['Cost'].to_numpy()\n",
    "\n",
    "cost_trans_ref = cost_values.reshape((2, 5)).tolist()"
   ]
  },
  {
   "cell_type": "code",
   "execution_count": 10,
   "metadata": {},
   "outputs": [
    {
     "data": {
      "text/plain": [
       "[[1537, 1748, 1940, 1838, 1665]]"
      ]
     },
     "execution_count": 10,
     "metadata": {},
     "output_type": "execute_result"
    }
   ],
   "source": [
    "demand_values = demand_data['Demand'].to_numpy()\n",
    "demands = demand_values.reshape((1, 5)).tolist()\n",
    "demands"
   ]
  },
  {
   "cell_type": "markdown",
   "metadata": {},
   "source": [
    "## Define objective function"
   ]
  },
  {
   "cell_type": "code",
   "execution_count": 11,
   "metadata": {},
   "outputs": [],
   "source": [
    "prof_ref_objective = gb.quicksum(cost_prod_ref[i][j]*X[i,j] for i in range(25) for j in range(5))\n",
    "prof_trans_objective = gb.quicksum(cost_prod_trans[i][j]*Y[i,j] for i in range(15) for j in range(2))\n",
    "trans_ref_objective = gb.quicksum(cost_trans_ref[i][j]*Z[i,j] for i in range(2) for j in range(5))"
   ]
  },
  {
   "cell_type": "code",
   "execution_count": 12,
   "metadata": {},
   "outputs": [],
   "source": [
    "# Objective function: Minimize total cost\n",
    "model_a.setObjective(prof_ref_objective+prof_trans_objective+trans_ref_objective,\n",
    "                   GRB.MINIMIZE)"
   ]
  },
  {
   "cell_type": "markdown",
   "metadata": {},
   "source": [
    "## Define constraint"
   ]
  },
  {
   "cell_type": "code",
   "execution_count": 13,
   "metadata": {},
   "outputs": [
    {
     "data": {
      "text/plain": [
       "<gurobi.Constr *Awaiting Model Update*>"
      ]
     },
     "execution_count": 13,
     "metadata": {},
     "output_type": "execute_result"
    }
   ],
   "source": [
    "# Constraints\n",
    "# Capacity constraints for direct production facilities\n",
    "for i in range(num_direct_facilities):\n",
    "    model_a.addConstr(gb.quicksum(X[i, j] for j in range(num_refinement_centers)) <= cap_direct[i])\n",
    "\n",
    "# Capacity constraints for transshipment production facilities\n",
    "for i in range(num_transship_facilities):\n",
    "    model_a.addConstr(gb.quicksum(Y[i, j] for j in range(num_transship_centers)) <= cap_transship_facilities[i])\n",
    "    \n",
    "# Capacity constraints for transshipment production facilities\n",
    "for i in range(num_transship_centers):\n",
    "    model_a.addConstr(gb.quicksum(Z[i, j] for j in range(num_refinement_centers)) <= cap_transship_centers[i])\n",
    "\n",
    "# Demand constraints at each refinement center\n",
    "for j in range(num_refinement_centers):\n",
    "    model_a.addConstr(gb.quicksum(X[i, j] for i in range(num_direct_facilities)) +\n",
    "                    gb.quicksum(Z[k, j] for k in range(num_transship_centers)) == demands[0][j])\n",
    "    \n",
    "# Add the flow balance constrainits\n",
    "model_a.addConstr(gb.quicksum(Y[i,0] for i in range(num_transship_facilities)) == gb.quicksum(Z[0,j] for j in range(num_refinement_centers)), name=\"Flow Balance 1\")\n",
    "model_a.addConstr(gb.quicksum(Y[i,1] for i in range(num_transship_facilities)) == gb.quicksum(Z[1,j] for j in range(num_refinement_centers)), name=\"Flow Balance 2\")\n"
   ]
  },
  {
   "cell_type": "markdown",
   "metadata": {},
   "source": [
    "## Optimize model"
   ]
  },
  {
   "cell_type": "code",
   "execution_count": 14,
   "metadata": {},
   "outputs": [
    {
     "name": "stdout",
     "output_type": "stream",
     "text": [
      "Gurobi Optimizer version 11.0.0 build v11.0.0rc2 (win64 - Windows 11.0 (22621.2))\n",
      "\n",
      "CPU model: 11th Gen Intel(R) Core(TM) i7-1165G7 @ 2.80GHz, instruction set [SSE2|AVX|AVX2|AVX512]\n",
      "Thread count: 4 physical cores, 8 logical processors, using up to 8 threads\n",
      "\n",
      "Optimize a model with 49 rows, 165 columns and 340 nonzeros\n",
      "Model fingerprint: 0x4b7d6154\n",
      "Coefficient statistics:\n",
      "  Matrix range     [1e+00, 1e+00]\n",
      "  Objective range  [6e-01, 6e+00]\n",
      "  Bounds range     [0e+00, 0e+00]\n",
      "  RHS range        [1e+02, 2e+03]\n",
      "Presolve time: 0.00s\n",
      "Presolved: 49 rows, 165 columns, 340 nonzeros\n",
      "\n",
      "Iteration    Objective       Primal Inf.    Dual Inf.      Time\n",
      "       0    1.7230583e+04   1.238600e+04   0.000000e+00      0s\n",
      "      36    2.4188585e+04   0.000000e+00   0.000000e+00      0s\n",
      "\n",
      "Solved in 36 iterations and 0.01 seconds (0.00 work units)\n",
      "Optimal objective  2.418858517e+04\n"
     ]
    }
   ],
   "source": [
    "# Optimize the model\n",
    "model_a.optimize()"
   ]
  },
  {
   "cell_type": "code",
   "execution_count": 15,
   "metadata": {},
   "outputs": [
    {
     "name": "stdout",
     "output_type": "stream",
     "text": [
      "\n",
      "    Variable            X \n",
      "-------------------------\n",
      "      X[0,3]          462 \n",
      "      X[1,1]          103 \n",
      "      X[2,2]          460 \n",
      "      X[4,3]           86 \n",
      "      X[5,1]          217 \n",
      "      X[7,4]          521 \n",
      "      X[8,4]          548 \n",
      "     X[10,4]          354 \n",
      "     X[11,0]            7 \n",
      "     X[11,2]          404 \n",
      "     X[12,0]          104 \n",
      "     X[13,4]          155 \n",
      "     X[14,3]          285 \n",
      "     X[15,0]          109 \n",
      "     X[17,1]          351 \n",
      "     X[17,4]           87 \n",
      "     X[18,3]          501 \n",
      "     X[20,2]          462 \n",
      "     X[21,3]          504 \n",
      "     X[22,1]          106 \n",
      "     X[23,2]          132 \n",
      "      Y[0,1]          374 \n",
      "      Y[2,1]          395 \n",
      "      Y[3,1]          245 \n",
      "      Y[6,0]          152 \n",
      "      Y[7,1]           24 \n",
      "      Y[8,1]          415 \n",
      "      Y[9,0]          503 \n",
      "     Y[11,0]          297 \n",
      "     Y[14,0]          365 \n",
      "      Z[0,0]         1317 \n",
      "      Z[1,1]          971 \n",
      "      Z[1,2]          482 \n",
      "None\n"
     ]
    }
   ],
   "source": [
    "# Print the decision variables\n",
    "print(model_a.printAttr('X'))"
   ]
  },
  {
   "cell_type": "markdown",
   "metadata": {},
   "source": [
    "## Question(a): After solving the linear program, what is the optimal transportation cost?"
   ]
  },
  {
   "cell_type": "code",
   "execution_count": 16,
   "metadata": {},
   "outputs": [
    {
     "name": "stdout",
     "output_type": "stream",
     "text": [
      "Optimal Transportation Cost_a: 24188.585165447683\n"
     ]
    }
   ],
   "source": [
    "# Check if the solution is found\n",
    "if model_a.status == GRB.Status.OPTIMAL:\n",
    "    optimal_cost_a = model_a.objVal\n",
    "    print(f\"Optimal Transportation Cost_a: {optimal_cost_a}\")\n",
    "else:\n",
    "    print(\"No optimal solution found\")"
   ]
  },
  {
   "cell_type": "markdown",
   "metadata": {},
   "source": [
    "## Question(b): In the optimal solution, what proportion of canola oil is transshipped?"
   ]
  },
  {
   "cell_type": "code",
   "execution_count": 17,
   "metadata": {},
   "outputs": [
    {
     "name": "stdout",
     "output_type": "stream",
     "text": [
      "% of transshipped: 0.31736938588450964\n"
     ]
    }
   ],
   "source": [
    "total_transshipped = sum(Y[i, j].X for i in range(num_transship_facilities) for j in range(num_transship_centers))\n",
    "\n",
    "total_transport = total_transshipped + sum(X[i, j].X for i in range(num_direct_facilities) for j in range(num_refinement_centers))\n",
    "\n",
    "proportion_transshipped = total_transshipped / total_transport\n",
    "\n",
    "print('% of transshipped:',proportion_transshipped)\n"
   ]
  },
  {
   "cell_type": "markdown",
   "metadata": {},
   "source": [
    "\n",
    " ## Question(c): The model does not currently limit that amount of canola oil that is transshipped. How would you modify the objective function to account for this? Formulate and solve this model."
   ]
  },
  {
   "cell_type": "code",
   "execution_count": 18,
   "metadata": {},
   "outputs": [
    {
     "data": {
      "text/plain": [
       "2770.0"
      ]
     },
     "execution_count": 18,
     "metadata": {},
     "output_type": "execute_result"
    }
   ],
   "source": [
    "total_transshipped"
   ]
  },
  {
   "cell_type": "code",
   "execution_count": 19,
   "metadata": {},
   "outputs": [],
   "source": [
    "# Create the optimization model\n",
    "model_b = Model(\"limit the amount transshipped\")"
   ]
  },
  {
   "cell_type": "code",
   "execution_count": 20,
   "metadata": {},
   "outputs": [],
   "source": [
    "# Create decision variables and set the upperbond 1000 for Quantity from transshipment production facility i to transshipment center\n",
    "# Xij - Quantity from direct production facility i to refinement center j\n",
    "X_b = model_b.addVars(num_direct_facilities, num_refinement_centers,lb =0, vtype=GRB.CONTINUOUS, name=\"X_b\")\n",
    "\n",
    "# Yij - Quantity from transshipment production facility i to transshipment center j\n",
    "Y_b = model_b.addVars(num_transship_facilities, num_transship_centers,lb=0, ub=1000, vtype=GRB.CONTINUOUS, name=\"Y_b\")\n",
    "\n",
    "# Zjk - Quantity from transshipment center j to refinement center k\n",
    "Z_b = model_b.addVars(num_transship_centers, num_refinement_centers,lb=0, ub=1000, vtype=GRB.CONTINUOUS, name=\"Z_b\")"
   ]
  },
  {
   "cell_type": "code",
   "execution_count": 21,
   "metadata": {},
   "outputs": [],
   "source": [
    "# Objective function: Minimize total cost\n",
    "prof_ref_objective_b = gb.quicksum(cost_prod_ref[i][j]*X_b[i,j] for i in range(25) for j in range(5))\n",
    "prof_trans_objective_b = gb.quicksum(cost_prod_trans[i][j]*Y_b[i,j] for i in range(15) for j in range(2))\n",
    "trans_ref_objective_b = gb.quicksum(cost_trans_ref[i][j]*Z_b[i,j] for i in range(2) for j in range(5))\n",
    "\n",
    "model_b.setObjective(prof_ref_objective_b+prof_trans_objective_b+trans_ref_objective_b,\n",
    "                   GRB.MINIMIZE)"
   ]
  },
  {
   "cell_type": "code",
   "execution_count": 22,
   "metadata": {},
   "outputs": [
    {
     "data": {
      "text/plain": [
       "array([374, 444, 395, 245, 378, 408, 435, 175, 415, 503, 184, 297, 450,\n",
       "       169, 365], dtype=int64)"
      ]
     },
     "execution_count": 22,
     "metadata": {},
     "output_type": "execute_result"
    }
   ],
   "source": [
    "cap_transship_facilities"
   ]
  },
  {
   "cell_type": "code",
   "execution_count": 23,
   "metadata": {},
   "outputs": [
    {
     "data": {
      "text/plain": [
       "<gurobi.Constr *Awaiting Model Update*>"
      ]
     },
     "execution_count": 23,
     "metadata": {},
     "output_type": "execute_result"
    }
   ],
   "source": [
    "# Define Constraints\n",
    "# Capacity constraints for direct production facilities\n",
    "for i in range(num_direct_facilities):\n",
    "    model_b.addConstr(gb.quicksum(X_b[i, j] for j in range(num_refinement_centers)) <= cap_direct[i])\n",
    "\n",
    "# Capacity constraints for transshipment production facilities\n",
    "for i in range(num_transship_facilities):\n",
    "    model_b.addConstr(gb.quicksum(Y_b[i, j] for j in range(num_transship_centers)) <= cap_transship_facilities[i])\n",
    "\n",
    "# Capacity constraints for transshipment production facilities\n",
    "for i in range(num_transship_centers):\n",
    "    model_b.addConstr(gb.quicksum(Z_b[i, j] for j in range(num_refinement_centers)) <= cap_transship_centers[i])\n",
    "\n",
    "# Demand constraints at each refinement center\n",
    "for j in range(num_refinement_centers):\n",
    "    model_b.addConstr(gb.quicksum(X_b[i, j] for i in range(num_direct_facilities)) +\n",
    "                    gb.quicksum(Z_b[k, j] for k in range(num_transship_centers)) == demands[0][j])\n",
    "    \n",
    "# Add the flow balance constrainits\n",
    "model_b.addConstr(gb.quicksum(Y_b[i,0] for i in range(num_transship_facilities)) == gb.quicksum(Z_b[0,j] for j in range(num_refinement_centers)), name=\"Flow Balance 1\")\n",
    "model_b.addConstr(gb.quicksum(Y_b[i,1] for i in range(num_transship_facilities)) == gb.quicksum(Z_b[1,j] for j in range(num_refinement_centers)), name=\"Flow Balance 2\")"
   ]
  },
  {
   "cell_type": "code",
   "execution_count": 24,
   "metadata": {},
   "outputs": [
    {
     "name": "stdout",
     "output_type": "stream",
     "text": [
      "Gurobi Optimizer version 11.0.0 build v11.0.0rc2 (win64 - Windows 11.0 (22621.2))\n",
      "\n",
      "CPU model: 11th Gen Intel(R) Core(TM) i7-1165G7 @ 2.80GHz, instruction set [SSE2|AVX|AVX2|AVX512]\n",
      "Thread count: 4 physical cores, 8 logical processors, using up to 8 threads\n",
      "\n",
      "Optimize a model with 49 rows, 165 columns and 340 nonzeros\n",
      "Model fingerprint: 0xa40d3184\n",
      "Coefficient statistics:\n",
      "  Matrix range     [1e+00, 1e+00]\n",
      "  Objective range  [6e-01, 6e+00]\n",
      "  Bounds range     [1e+03, 1e+03]\n",
      "  RHS range        [1e+02, 2e+03]\n",
      "Presolve time: 0.00s\n",
      "Presolved: 49 rows, 165 columns, 340 nonzeros\n",
      "\n",
      "Iteration    Objective       Primal Inf.    Dual Inf.      Time\n",
      "       0    1.7230583e+04   3.113500e+03   0.000000e+00      0s\n",
      "      37    2.4296202e+04   0.000000e+00   0.000000e+00      0s\n",
      "\n",
      "Solved in 37 iterations and 0.01 seconds (0.00 work units)\n",
      "Optimal objective  2.429620162e+04\n",
      "Optimal Transportation Cost_b: 24296.201616368264\n"
     ]
    }
   ],
   "source": [
    "model_b.optimize()\n",
    "    \n",
    "if model_b.status == GRB.Status.OPTIMAL:\n",
    "    optimal_cost_b = model_b.objVal\n",
    "    print(f\"Optimal Transportation Cost_b: {optimal_cost_b}\")\n",
    "else:\n",
    "    print(\"No optimal solution found\")"
   ]
  },
  {
   "cell_type": "markdown",
   "metadata": {},
   "source": [
    "## Quesion(d) Instead of modifying the objective function, how would you modify the constraint set to reduce the proportion of canola oil that is transshipped? Formulate and solve this model."
   ]
  },
  {
   "cell_type": "code",
   "execution_count": 25,
   "metadata": {},
   "outputs": [
    {
     "name": "stdout",
     "output_type": "stream",
     "text": [
      "% of transshipped: 0.31736938588450964\n"
     ]
    }
   ],
   "source": [
    "print('% of transshipped:',proportion_transshipped)"
   ]
  },
  {
   "cell_type": "code",
   "execution_count": 26,
   "metadata": {},
   "outputs": [],
   "source": [
    "model_c = Model(\"contraint for proportion transshipped\")"
   ]
  },
  {
   "cell_type": "code",
   "execution_count": 27,
   "metadata": {},
   "outputs": [],
   "source": [
    "# Create decision variables\n",
    "# Xij - Quantity from direct production facility i to refinement center j\n",
    "X_c = model_c.addVars(num_direct_facilities, num_refinement_centers,lb =0, vtype=GRB.CONTINUOUS, name=\"X_c\")\n",
    "\n",
    "# Yij - Quantity from transshipment production facility i to transshipment center j\n",
    "Y_c = model_c.addVars(num_transship_facilities, num_transship_centers,lb=0, vtype=GRB.CONTINUOUS, name=\"Y_c\")\n",
    "\n",
    "# Zjk - Quantity from transshipment center j to refinement center k\n",
    "Z_c = model_c.addVars(num_transship_centers, num_refinement_centers,lb=0, vtype=GRB.CONTINUOUS, name=\"Z_c\")"
   ]
  },
  {
   "cell_type": "code",
   "execution_count": 28,
   "metadata": {},
   "outputs": [],
   "source": [
    "# Objective function: Minimize total cost\n",
    "prof_ref_objective_c = gb.quicksum(cost_prod_ref[i][j]*X_c[i,j] for i in range(25) for j in range(5))\n",
    "prof_trans_objective_c = gb.quicksum(cost_prod_trans[i][j]*Y_c[i,j] for i in range(15) for j in range(2))\n",
    "trans_ref_objective_c = gb.quicksum(cost_trans_ref[i][j]*Z_c[i,j] for i in range(2) for j in range(5))\n",
    "\n",
    "model_c.setObjective(prof_ref_objective_c+prof_trans_objective_c+trans_ref_objective_c,\n",
    "                   GRB.MINIMIZE)"
   ]
  },
  {
   "cell_type": "code",
   "execution_count": 29,
   "metadata": {},
   "outputs": [
    {
     "data": {
      "text/plain": [
       "<gurobi.Constr *Awaiting Model Update*>"
      ]
     },
     "execution_count": 29,
     "metadata": {},
     "output_type": "execute_result"
    }
   ],
   "source": [
    "# add Constraint 0.35 to reduce the porportion of transshipment from 0.32 to 0.25\n",
    "total_transshipped_c = sum(Y_c[i, j] for i in range(num_transship_facilities) for j in range(num_transship_centers))\n",
    "\n",
    "total_transport_c = total_transshipped_c + sum(X_c[i, j] for i in range(num_direct_facilities) for j in range(num_refinement_centers))\n",
    "\n",
    "model_c.addConstr(total_transshipped_c <= 0.15*total_transport_c)"
   ]
  },
  {
   "cell_type": "code",
   "execution_count": 30,
   "metadata": {},
   "outputs": [
    {
     "data": {
      "text/plain": [
       "<gurobi.Constr *Awaiting Model Update*>"
      ]
     },
     "execution_count": 30,
     "metadata": {},
     "output_type": "execute_result"
    }
   ],
   "source": [
    "# Capacity constraints for direct production facilities\n",
    "for i in range(num_direct_facilities):\n",
    "    model_c.addConstr(gb.quicksum(X_c[i, j] for j in range(num_refinement_centers)) <= cap_direct[i])\n",
    "\n",
    "# Capacity constraints for transshipment production facilities\n",
    "for i in range(num_transship_facilities):\n",
    "    model_c.addConstr(gb.quicksum(Y_c[i, j] for j in range(num_transship_centers)) <= cap_transship_facilities[i])\n",
    "\n",
    "# Capacity constraints for transshipment production facilities\n",
    "for i in range(num_transship_centers):\n",
    "    model_c.addConstr(gb.quicksum(Z_c[i, j] for j in range(num_refinement_centers)) <= cap_transship_centers[i])\n",
    "\n",
    "# Demand constraints at each refinement center\n",
    "for j in range(num_refinement_centers):\n",
    "    model_c.addConstr(gb.quicksum(X_c[i, j] for i in range(num_direct_facilities)) +\n",
    "                    gb.quicksum(Z_c[k, j] for k in range(num_transship_centers)) == demands[0][j])\n",
    "    \n",
    "# Add the flow balance constrainits\n",
    "model_c.addConstr(gb.quicksum(Y_c[i,0] for i in range(num_transship_facilities)) == gb.quicksum(Z_c[0,j] for j in range(num_refinement_centers)), name=\"Flow Balance 1\")\n",
    "model_c.addConstr(gb.quicksum(Y_c[i,1] for i in range(num_transship_facilities)) == gb.quicksum(Z_c[1,j] for j in range(num_refinement_centers)), name=\"Flow Balance 2\")"
   ]
  },
  {
   "cell_type": "code",
   "execution_count": 31,
   "metadata": {},
   "outputs": [
    {
     "name": "stdout",
     "output_type": "stream",
     "text": [
      "Gurobi Optimizer version 11.0.0 build v11.0.0rc2 (win64 - Windows 11.0 (22621.2))\n",
      "\n",
      "CPU model: 11th Gen Intel(R) Core(TM) i7-1165G7 @ 2.80GHz, instruction set [SSE2|AVX|AVX2|AVX512]\n",
      "Thread count: 4 physical cores, 8 logical processors, using up to 8 threads\n",
      "\n",
      "Optimize a model with 50 rows, 165 columns and 495 nonzeros\n",
      "Model fingerprint: 0xac56c5f3\n",
      "Coefficient statistics:\n",
      "  Matrix range     [1e-01, 1e+00]\n",
      "  Objective range  [6e-01, 6e+00]\n",
      "  Bounds range     [0e+00, 0e+00]\n",
      "  RHS range        [1e+02, 2e+03]\n",
      "Presolve time: 0.00s\n",
      "Presolved: 50 rows, 165 columns, 495 nonzeros\n",
      "\n",
      "Iteration    Objective       Primal Inf.    Dual Inf.      Time\n",
      "       0    1.7230583e+04   1.238600e+04   0.000000e+00      0s\n",
      "      39    2.6259090e+04   0.000000e+00   0.000000e+00      0s\n",
      "\n",
      "Solved in 39 iterations and 0.01 seconds (0.00 work units)\n",
      "Optimal objective  2.625908978e+04\n",
      "\n",
      "\n",
      "Optimal Transportation Cost_d: 26259.089782824856\n"
     ]
    }
   ],
   "source": [
    "# optimize the model    \n",
    "model_c.optimize()\n",
    "\n",
    "print('\\n')\n",
    "# Check if the solution is found\n",
    "if model_c.status == GRB.Status.OPTIMAL:\n",
    "    optimal_cost_c = model_c.objVal\n",
    "    print(f\"Optimal Transportation Cost_d: {optimal_cost_c}\")\n",
    "else:\n",
    "    print(\"No optimal solution found\")"
   ]
  },
  {
   "cell_type": "markdown",
   "metadata": {},
   "source": [
    "## Question (e) Which of the two modeling approaches would you recommend the company take to determine a transportation plan that reduces the amount of canola oil that is transshipped?"
   ]
  },
  {
   "cell_type": "markdown",
   "metadata": {},
   "source": [
    "The approach in question(d) would be recommended: modify the constraint set to reduce the proportion of canola oil that is transshipped as there is more flexibility of setting up the constraints by amount or percentage"
   ]
  },
  {
   "cell_type": "markdown",
   "metadata": {},
   "source": [
    "## Question(f): re-shoring is the practice of transferring overseas business operations closer to the home country. Given its prevalence in today’s economy, how would you alter the original model to favor producers closer to North America? Formulate and solve this model.\n"
   ]
  },
  {
   "cell_type": "code",
   "execution_count": 32,
   "metadata": {},
   "outputs": [],
   "source": [
    "# create model\n",
    "model_d = Model(\"Re-shoring problem\")"
   ]
  },
  {
   "cell_type": "code",
   "execution_count": 33,
   "metadata": {},
   "outputs": [],
   "source": [
    "# Create decision variables\n",
    "# Xij - Quantity from direct production facility i to refinement center j\n",
    "X_d = model_d.addVars(num_direct_facilities, num_refinement_centers,lb =0, vtype=GRB.CONTINUOUS, name=\"X\")\n",
    "\n",
    "# Yij - Quantity from transshipment production facility i to transshipment center j\n",
    "Y_d = model_d.addVars(num_transship_facilities, num_transship_centers,lb=0, vtype=GRB.CONTINUOUS, name=\"Y\")\n",
    "\n",
    "# Zjk - Quantity from transshipment center j to refinement center k\n",
    "Z_d = model_d.addVars(num_transship_centers, num_refinement_centers,lb=0, vtype=GRB.CONTINUOUS, name=\"Z\")"
   ]
  },
  {
   "cell_type": "code",
   "execution_count": 34,
   "metadata": {},
   "outputs": [],
   "source": [
    "# define Objective function: Minimize total cost\n",
    "prof_ref_objective_d = gb.quicksum(cost_prod_ref[i][j]*X_d[i,j] for i in range(25) for j in range(5))\n",
    "prof_trans_objective_d = gb.quicksum(cost_prod_trans[i][j]*Y_d[i,j] for i in range(15) for j in range(2))\n",
    "trans_ref_objective_d = gb.quicksum(cost_trans_ref[i][j]*Z_d[i,j] for i in range(2) for j in range(5))\n",
    "\n",
    "model_d.setObjective(prof_ref_objective_d+prof_trans_objective_d+trans_ref_objective_d,\n",
    "                   GRB.MINIMIZE)"
   ]
  },
  {
   "cell_type": "code",
   "execution_count": 35,
   "metadata": {},
   "outputs": [],
   "source": [
    "north_america_direct_facilities = range(15)\n",
    "nonnorth_america__direct_facilities = range(15, 25)"
   ]
  },
  {
   "cell_type": "code",
   "execution_count": 36,
   "metadata": {},
   "outputs": [
    {
     "data": {
      "text/plain": [
       "<gurobi.Constr *Awaiting Model Update*>"
      ]
     },
     "execution_count": 36,
     "metadata": {},
     "output_type": "execute_result"
    }
   ],
   "source": [
    "# Capacity constraints for North America direct production facilities\n",
    "for i in north_america_direct_facilities:\n",
    "    model_d.addConstr(gb.quicksum(X_d[i, j] for j in range(num_refinement_centers)) == cap_direct[i])\n",
    "    \n",
    "# Capacity constraints for Non-North America direct production facilities   \n",
    "for i in nonnorth_america__direct_facilities:\n",
    "    model_d.addConstr(gb.quicksum(X_d[i, j] for j in range(num_refinement_centers)) <= cap_direct[i-15])\n",
    "    \n",
    "# Capacity constraints for transshipment production facilities\n",
    "for i in range(num_transship_facilities):\n",
    "    model_d.addConstr(gb.quicksum(Y_d[i, j] for j in range(num_transship_centers)) <= cap_transship_facilities[i])\n",
    "\n",
    "# Capacity constraints for transshipment production facilities\n",
    "for i in range(num_transship_centers):\n",
    "    model_d.addConstr(gb.quicksum(Z_d[i, j] for j in range(num_refinement_centers)) <= cap_transship_centers[i])\n",
    "\n",
    "# Demand constraints at each refinement center\n",
    "for j in range(num_refinement_centers):\n",
    "    model_d.addConstr(gb.quicksum(X_d[i, j] for i in range(num_direct_facilities)) +\n",
    "                    gb.quicksum(Z_d[k, j] for k in range(num_transship_centers)) == demands[0][j])\n",
    "    \n",
    "# Add the flow balance constrainits\n",
    "model_d.addConstr(gb.quicksum(Y_d[i,0] for i in range(num_transship_facilities)) == gb.quicksum(Z_d[0,j] for j in range(num_refinement_centers)), name=\"Flow Balance 1\")\n",
    "model_d.addConstr(gb.quicksum(Y_d[i,1] for i in range(num_transship_facilities)) == gb.quicksum(Z_d[1,j] for j in range(num_refinement_centers)), name=\"Flow Balance 2\")"
   ]
  },
  {
   "cell_type": "code",
   "execution_count": 37,
   "metadata": {},
   "outputs": [
    {
     "name": "stdout",
     "output_type": "stream",
     "text": [
      "Gurobi Optimizer version 11.0.0 build v11.0.0rc2 (win64 - Windows 11.0 (22621.2))\n",
      "\n",
      "CPU model: 11th Gen Intel(R) Core(TM) i7-1165G7 @ 2.80GHz, instruction set [SSE2|AVX|AVX2|AVX512]\n",
      "Thread count: 4 physical cores, 8 logical processors, using up to 8 threads\n",
      "\n",
      "Optimize a model with 49 rows, 165 columns and 340 nonzeros\n",
      "Model fingerprint: 0x9c13b14a\n",
      "Coefficient statistics:\n",
      "  Matrix range     [1e+00, 1e+00]\n",
      "  Objective range  [6e-01, 6e+00]\n",
      "  Bounds range     [0e+00, 0e+00]\n",
      "  RHS range        [1e+02, 2e+03]\n",
      "Presolve time: 0.00s\n",
      "Presolved: 49 rows, 165 columns, 340 nonzeros\n",
      "\n",
      "Iteration    Objective       Primal Inf.    Dual Inf.      Time\n",
      "       0    1.4449141e+04   4.153000e+03   0.000000e+00      0s\n",
      "      27    2.4946141e+04   0.000000e+00   0.000000e+00      0s\n",
      "\n",
      "Solved in 27 iterations and 0.01 seconds (0.00 work units)\n",
      "Optimal objective  2.494614078e+04\n",
      "Optimal Transportation Cost_f: 24946.14078171339\n"
     ]
    }
   ],
   "source": [
    "model_d.optimize()\n",
    "\n",
    "if model_d.status == GRB.Status.OPTIMAL:\n",
    "    optimal_cost_d = model_d.objVal\n",
    "    print(f\"Optimal Transportation Cost_f: {optimal_cost_d}\")\n",
    "else:\n",
    "    print(\"No optimal solution found\")"
   ]
  },
  {
   "cell_type": "markdown",
   "metadata": {},
   "source": [
    "## Question (g) Do you expect the optimal solution to the re-shoring model to be similar to the optimal solution of the model that attempts to reduce transshipment? Why or why not?"
   ]
  },
  {
   "cell_type": "markdown",
   "metadata": {},
   "source": [
    "No. the constraints are different"
   ]
  },
  {
   "cell_type": "code",
   "execution_count": 38,
   "metadata": {},
   "outputs": [
    {
     "name": "stdout",
     "output_type": "stream",
     "text": [
      "     Model  Optimal Cost\n",
      "0  Model A  24188.585165\n",
      "1  Model B  24296.201616\n",
      "3  Model D  24946.140782\n",
      "2  Model C  26259.089783\n",
      "The best solution is provided by Model A with a cost of 24188.585165447683\n"
     ]
    }
   ],
   "source": [
    "# create a dictionalyr\n",
    "results = {\n",
    "    \"Model A\": optimal_cost_a,\n",
    "    \"Model B\": optimal_cost_b,\n",
    "    \"Model C\": optimal_cost_c,\n",
    "    \"Model D\": optimal_cost_d\n",
    "}\n",
    "\n",
    "# convert to dataframe\n",
    "results_df = pd.DataFrame(list(results.items()), columns=[\"Model\", \"Optimal Cost\"])\n",
    "\n",
    "sorted_results_df = results_df.sort_values(by=\"Optimal Cost\")\n",
    "\n",
    "print(sorted_results_df)\n",
    "\n",
    "best_model = sorted_results_df.iloc[0]\n",
    "print(f\"The best solution is provided by {best_model['Model']} with a cost of {best_model['Optimal Cost']}\")"
   ]
  }
 ],
 "metadata": {
  "kernelspec": {
   "display_name": "Python 3",
   "language": "python",
   "name": "python3"
  },
  "language_info": {
   "codemirror_mode": {
    "name": "ipython",
    "version": 3
   },
   "file_extension": ".py",
   "mimetype": "text/x-python",
   "name": "python",
   "nbconvert_exporter": "python",
   "pygments_lexer": "ipython3",
   "version": "3.11.3"
  }
 },
 "nbformat": 4,
 "nbformat_minor": 2
}
