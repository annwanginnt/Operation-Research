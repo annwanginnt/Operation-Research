{
 "cells": [
  {
   "cell_type": "code",
   "execution_count": 126,
   "metadata": {},
   "outputs": [],
   "source": [
    "from gurobipy import GRB\n",
    "import gurobipy as gb\n"
   ]
  },
  {
   "cell_type": "markdown",
   "metadata": {},
   "source": [
    "# QUESTION 1"
   ]
  },
  {
   "cell_type": "markdown",
   "metadata": {},
   "source": [
    "## Extracting the necessary data"
   ]
  },
  {
   "cell_type": "code",
   "execution_count": 127,
   "metadata": {},
   "outputs": [
    {
     "data": {
      "text/plain": [
       "dict_keys(['direct_capacity', 'transship_capacity_centers', 'transship_capacity_facilities', 'cost_production_refinement', 'cost_production_transshipment', 'cost_transshipment_refinement', 'refinement_demand'])"
      ]
     },
     "execution_count": 127,
     "metadata": {},
     "output_type": "execute_result"
    }
   ],
   "source": [
    "import pandas as pd\n",
    "\n",
    "# Load data files\n",
    "file_paths = {\n",
    "    \"direct_capacity\": \"https://raw.githubusercontent.com/annwanginnt/Operation-Research/main/Capacity_for_Direct_Production_Facilities.csv\",\n",
    "    \"transship_capacity_centers\": \"https://raw.githubusercontent.com/annwanginnt/Operation-Research/main/Capacity_for_Transship_Distribution_Centers.csv\",\n",
    "    \"transship_capacity_facilities\": \"https://raw.githubusercontent.com/annwanginnt/Operation-Research/main/Capacity_for_Transship_Production_Facilities.csv\",\n",
    "    \"cost_production_refinement\": \"https://raw.githubusercontent.com/annwanginnt/Operation-Research/main/Cost_Production_to_Refinement.csv\",\n",
    "    \"cost_production_transshipment\": \"https://raw.githubusercontent.com/annwanginnt/Operation-Research/main/Cost_Production_to_Transshipment.csv\",\n",
    "    \"cost_transshipment_refinement\": \"https://raw.githubusercontent.com/annwanginnt/Operation-Research/main/Cost_Transshipment_to_Refinement.csv\",\n",
    "    \"refinement_demand\": \"https://raw.githubusercontent.com/annwanginnt/Operation-Research/main/Refinement_Demand.csv\",\n",
    "}\n",
    "\n",
    "# Reading the data\n",
    "data = {key: pd.read_csv(file_paths[key]) for key in file_paths}\n",
    "\n",
    "# Displaying the keys to understand the structure of the data\n",
    "data.keys()  \n"
   ]
  },
  {
   "cell_type": "code",
   "execution_count": 128,
   "metadata": {},
   "outputs": [
    {
     "data": {
      "text/plain": [
       "{'direct_capacity':    ProductionFacility  Capacity\n",
       " 0                   1       462\n",
       " 1                   2       103\n",
       " 2                   3       460\n",
       " 3                   4       325\n",
       " 4                   5       227,\n",
       " 'transship_capacity_centers':    TransshipmentHub  Capacity\n",
       " 0                 1      1317\n",
       " 1                 2      1453,\n",
       " 'transship_capacity_facilities':    ProductionFacility  Capacity\n",
       " 0                   1       374\n",
       " 1                   2       444\n",
       " 2                   3       395\n",
       " 3                   4       245\n",
       " 4                   5       378,\n",
       " 'cost_production_refinement':    ProductionFacility  RefinementCenter      Cost\n",
       " 0                   1                 1  4.252733\n",
       " 1                   1                 2  4.567726\n",
       " 2                   1                 3  4.696484\n",
       " 3                   1                 4  2.678741\n",
       " 4                   1                 5  4.272451,\n",
       " 'cost_production_transshipment':    ProductionFacility  TransshipmentHub      Cost\n",
       " 0                   1                 1  2.378826\n",
       " 1                   1                 2  0.863842\n",
       " 2                   2                 1  1.666982\n",
       " 3                   2                 2  2.119488\n",
       " 4                   3                 1  2.174880,\n",
       " 'cost_transshipment_refinement':    TransshipmentHub  RefinementCenter      Cost\n",
       " 0                 1                 1  1.572329\n",
       " 1                 1                 2  3.465474\n",
       " 2                 1                 3  2.244062\n",
       " 3                 1                 4  3.773839\n",
       " 4                 1                 5  3.262652,\n",
       " 'refinement_demand':    RefinementCenter  Demand\n",
       " 0                 1    1537\n",
       " 1                 2    1748\n",
       " 2                 3    1940\n",
       " 3                 4    1838\n",
       " 4                 5    1665}"
      ]
     },
     "execution_count": 128,
     "metadata": {},
     "output_type": "execute_result"
    }
   ],
   "source": [
    "# Displaying the first few rows of each dataset to understand their structure\n",
    "data_overview = {key: data[key].head() for key in data}\n",
    "\n",
    "data_overview\n"
   ]
  },
  {
   "cell_type": "code",
   "execution_count": 129,
   "metadata": {},
   "outputs": [
    {
     "data": {
      "text/html": [
       "<div>\n",
       "<style scoped>\n",
       "    .dataframe tbody tr th:only-of-type {\n",
       "        vertical-align: middle;\n",
       "    }\n",
       "\n",
       "    .dataframe tbody tr th {\n",
       "        vertical-align: top;\n",
       "    }\n",
       "\n",
       "    .dataframe thead th {\n",
       "        text-align: right;\n",
       "    }\n",
       "</style>\n",
       "<table border=\"1\" class=\"dataframe\">\n",
       "  <thead>\n",
       "    <tr style=\"text-align: right;\">\n",
       "      <th></th>\n",
       "      <th>RefinementCenter</th>\n",
       "      <th>Demand</th>\n",
       "    </tr>\n",
       "  </thead>\n",
       "  <tbody>\n",
       "    <tr>\n",
       "      <th>0</th>\n",
       "      <td>1</td>\n",
       "      <td>1537</td>\n",
       "    </tr>\n",
       "    <tr>\n",
       "      <th>1</th>\n",
       "      <td>2</td>\n",
       "      <td>1748</td>\n",
       "    </tr>\n",
       "    <tr>\n",
       "      <th>2</th>\n",
       "      <td>3</td>\n",
       "      <td>1940</td>\n",
       "    </tr>\n",
       "    <tr>\n",
       "      <th>3</th>\n",
       "      <td>4</td>\n",
       "      <td>1838</td>\n",
       "    </tr>\n",
       "    <tr>\n",
       "      <th>4</th>\n",
       "      <td>5</td>\n",
       "      <td>1665</td>\n",
       "    </tr>\n",
       "  </tbody>\n",
       "</table>\n",
       "</div>"
      ],
      "text/plain": [
       "   RefinementCenter  Demand\n",
       "0                 1    1537\n",
       "1                 2    1748\n",
       "2                 3    1940\n",
       "3                 4    1838\n",
       "4                 5    1665"
      ]
     },
     "execution_count": 129,
     "metadata": {},
     "output_type": "execute_result"
    }
   ],
   "source": [
    "data['refinement_demand']"
   ]
  },
  {
   "cell_type": "code",
   "execution_count": 130,
   "metadata": {},
   "outputs": [
    {
     "name": "stdout",
     "output_type": "stream",
     "text": [
      "Capacity of direct facilities: [462 103 460 325 227 217 205 521 548 191 361 411 104 155 285 109 422 438\n",
      " 501 139 462 504 106 132 298]\n",
      "Capacity of transship facilities: [374 444 395 245 378 408 435 175 415 503 184 297 450 169 365]\n",
      "Capacity of distribution center: [1317 1453]\n",
      "\n",
      "\n",
      "number of direct facility: 25\n",
      "number of transship facility: 15\n",
      "number of distirbution center 2\n",
      "number of refinement center: 5\n",
      "\n",
      "\n",
      "Demand:    RefinementCenter  Demand\n",
      "0                 1    1537\n",
      "1                 2    1748\n",
      "2                 3    1940\n",
      "3                 4    1838\n",
      "4                 5    1665\n",
      "\n",
      "\n",
      "total_demand: 8728\n"
     ]
    }
   ],
   "source": [
    "# Extracting the necessary data\n",
    "\n",
    "# Capacities array\n",
    "cap_direct = data['direct_capacity']['Capacity'].values  \n",
    "cap_transship_facilities = data['transship_capacity_facilities']['Capacity'].values\n",
    "cap_transship_centers = data['transship_capacity_centers']['Capacity'].values\n",
    "\n",
    "# Costs dataframe\n",
    "cost_prod_ref = data['cost_production_refinement']\n",
    "cost_prod_trans = data['cost_production_transshipment']\n",
    "cost_trans_ref = data['cost_transshipment_refinement']\n",
    "\n",
    "\n",
    "\n",
    "# Number of facilities and centers\n",
    "num_direct_facilities = len(cap_direct)\n",
    "num_transship_facilities = len(cap_transship_facilities)\n",
    "num_refinement_centers = 5  # Given in the problem statement\n",
    "num_transship_centers = len(cap_transship_centers)\n",
    "\n",
    "# demand \n",
    "demand_data = data[\"refinement_demand\"]\n",
    "\n",
    "#total demand\n",
    "total_demand = demand_data['Demand'].sum()\n",
    "\n",
    "print('Capacity of direct facilities:', cap_direct)\n",
    "print('Capacity of transship facilities:', cap_transship_facilities)\n",
    "print('Capacity of distribution center:',cap_transship_centers)\n",
    "\n",
    "\n",
    "print('\\n')\n",
    "\n",
    "\n",
    "print('number of direct facility:', num_direct_facilities)\n",
    "print('number of transship facility:', num_transship_facilities)\n",
    "print('number of distirbution center', num_transship_centers)\n",
    "print('number of refinement center:',num_refinement_centers)\n",
    "\n",
    "print('\\n')\n",
    "\n",
    "print('Demand:', demand_data)\n",
    "\n",
    "print('\\n')\n",
    "\n",
    "print('total_demand:',total_demand)\n",
    "\n"
   ]
  },
  {
   "cell_type": "markdown",
   "metadata": {},
   "source": [
    "## Create the optimization model"
   ]
  },
  {
   "cell_type": "code",
   "execution_count": 131,
   "metadata": {},
   "outputs": [],
   "source": [
    "from gurobipy import GRB, Model\n",
    "\n",
    "# Create the optimization model\n",
    "model_a = Model(\"Transshipment Problem\")\n"
   ]
  },
  {
   "cell_type": "markdown",
   "metadata": {},
   "source": [
    "## Define decision variables"
   ]
  },
  {
   "cell_type": "code",
   "execution_count": 132,
   "metadata": {},
   "outputs": [],
   "source": [
    "# Define the indices for the facilities and centers\n",
    "direct_facilities = range(num_direct_facilities)  \n",
    "transship_facilities = range(num_transship_facilities)  \n",
    "refinement_centers = range(num_refinement_centers)  \n",
    "transship_centers = range(num_transship_centers)  \n",
    "\n",
    "# Create decision variables\n",
    "# Xij - Quantity from direct production facility i to refinement center j\n",
    "X = model.addVars(direct_facilities, refinement_centers,lb =0, vtype=GRB.CONTINUOUS, name=\"X\")\n",
    "\n",
    "# Yij - Quantity from transshipment production facility i to transshipment center j\n",
    "Y = model.addVars(transship_facilities, transship_centers,lb=0, vtype=GRB.CONTINUOUS, name=\"Y\")\n",
    "\n",
    "# Zjk - Quantity from transshipment center j to refinement center k\n",
    "Z = model.addVars(transship_centers, refinement_centers,lb=0, vtype=GRB.CONTINUOUS, name=\"Z\")"
   ]
  },
  {
   "cell_type": "markdown",
   "metadata": {},
   "source": [
    "## Define objective function"
   ]
  },
  {
   "cell_type": "code",
   "execution_count": 133,
   "metadata": {},
   "outputs": [],
   "source": [
    "#使得我们能够准确地从一个结构化的数据表中提取出对应每条运输路线的成本数据。\n",
    "# Objective function: Minimize total cost\n",
    "model.setObjective(gb.quicksum(cost_prod_ref.iloc[i * num_refinement_centers + j]['Cost'] * X[i, j] \n",
    "                               for i in range(num_direct_facilities) \n",
    "                               for j in range(num_refinement_centers)) +\n",
    "                   gb.quicksum(cost_prod_trans.iloc[i * num_transship_centers + j]['Cost'] * Y[i, j] \n",
    "                               for i in range(num_transship_facilities) \n",
    "                               for j in range(num_transship_centers)) +\n",
    "                   gb.quicksum(cost_trans_ref.iloc[j * num_refinement_centers + k]['Cost'] * Z[j, k] \n",
    "                               for j in range(num_transship_centers) \n",
    "                               for k in range(num_refinement_centers)),\n",
    "                   GRB.MINIMIZE)\n",
    "\n",
    "\n"
   ]
  },
  {
   "cell_type": "markdown",
   "metadata": {},
   "source": [
    "## Define constraint"
   ]
  },
  {
   "cell_type": "code",
   "execution_count": 135,
   "metadata": {},
   "outputs": [],
   "source": [
    "# Constraints\n",
    "# Capacity constraints for direct production facilities\n",
    "for i in range(num_direct_facilities):\n",
    "    model.addConstr(gb.quicksum(X[i, j] for j in range(num_refinement_centers)) <= cap_direct[i])\n",
    "\n",
    "# Capacity constraints for transshipment production facilities\n",
    "for i in range(num_transship_facilities):\n",
    "    model.addConstr(gb.quicksum(Y[i, j] for j in range(num_transship_centers)) <= cap_transship_facilities[i])\n",
    "\n",
    "# Demand constraints at each refinement center\n",
    "for j in range(num_refinement_centers):\n",
    "    demand_j = demand_data.loc[j, 'Demand']  \n",
    "    model.addConstr(gb.quicksum(X[i, j] for i in range(num_direct_facilities)) +\n",
    "                    gb.quicksum(Z[k, j] for k in range(num_transship_centers)) == demand_j)\n"
   ]
  },
  {
   "cell_type": "markdown",
   "metadata": {},
   "source": [
    "## Optimize model"
   ]
  },
  {
   "cell_type": "code",
   "execution_count": null,
   "metadata": {},
   "outputs": [
    {
     "name": "stdout",
     "output_type": "stream",
     "text": [
      "Gurobi Optimizer version 11.0.0 build v11.0.0rc2 (win64 - Windows 11.0 (22621.2))\n",
      "\n",
      "CPU model: 12th Gen Intel(R) Core(TM) i7-12700H, instruction set [SSE2|AVX|AVX2]\n",
      "Thread count: 14 physical cores, 20 logical processors, using up to 20 threads\n",
      "\n",
      "Optimize a model with 45 rows, 165 columns and 290 nonzeros\n",
      "Model fingerprint: 0x97134bb6\n",
      "Coefficient statistics:\n",
      "  Matrix range     [1e+00, 1e+00]\n",
      "  Objective range  [6e-01, 6e+00]\n",
      "  Bounds range     [0e+00, 0e+00]\n",
      "  RHS range        [1e+02, 2e+03]\n",
      "Presolve removed 45 rows and 165 columns\n",
      "Presolve time: 0.00s\n",
      "Presolve: All rows and columns removed\n",
      "Iteration    Objective       Primal Inf.    Dual Inf.      Time\n",
      "       0    1.7267260e+04   0.000000e+00   0.000000e+00      0s\n",
      "\n",
      "Solved in 0 iterations and 0.01 seconds (0.00 work units)\n",
      "Optimal objective  1.726726025e+04\n"
     ]
    }
   ],
   "source": [
    "# Optimize the model\n",
    "model.optimize()"
   ]
  },
  {
   "cell_type": "markdown",
   "metadata": {},
   "source": [
    "## Question(a): After solving the linear program, what is the optimal transportation cost?"
   ]
  },
  {
   "cell_type": "code",
   "execution_count": null,
   "metadata": {},
   "outputs": [
    {
     "name": "stdout",
     "output_type": "stream",
     "text": [
      "Optimal Transportation Cost_a: 17267.26024720385\n"
     ]
    }
   ],
   "source": [
    "# Check if the solution is found\n",
    "if model.status == GRB.Status.OPTIMAL:\n",
    "    optimal_cost_a = model_a.objVal\n",
    "    print(f\"Optimal Transportation Cost_a: {optimal_cost_a}\")\n",
    "else:\n",
    "    print(\"No optimal solution found\")"
   ]
  },
  {
   "cell_type": "markdown",
   "metadata": {},
   "source": [
    "## Question(b): In the optimal solution, what proportion of canola oil is transshipped?"
   ]
  },
  {
   "cell_type": "code",
   "execution_count": null,
   "metadata": {},
   "outputs": [
    {
     "name": "stdout",
     "output_type": "stream",
     "text": [
      "% of transshipped: 0.9470669110907425\n"
     ]
    }
   ],
   "source": [
    "# 计算总的转运量\n",
    "total_transshipped = sum(Y[i, j].X for i in transship_facilities for j in transship_centers) + \\\n",
    "                     sum(Z[j, k].X for j in transship_centers for k in refinement_centers)\n",
    "\n",
    "# 计算总的运输量\n",
    "total_transport = total_transshipped + \\\n",
    "                  sum(X[i, j].X for i in direct_facilities for j in refinement_centers)\n",
    "\n",
    "# 计算比例\n",
    "proportion_transshipped = total_transshipped / total_transport if total_transport > 0 else 0\n",
    "\n",
    "print('% of transshipped:',proportion_transshipped)\n"
   ]
  },
  {
   "cell_type": "markdown",
   "metadata": {},
   "source": [
    "\n",
    " ## Question(c): The model does not currently limit that amount of canola oil that is transshipped. How would you modify the objective function to account for this? Formulate and solve this model."
   ]
  },
  {
   "cell_type": "code",
   "execution_count": 137,
   "metadata": {},
   "outputs": [
    {
     "name": "stdout",
     "output_type": "stream",
     "text": [
      "\n",
      "\n",
      "Gurobi Optimizer version 11.0.0 build v11.0.0rc2 (win64 - Windows 11.0 (22621.2))\n",
      "\n",
      "CPU model: 12th Gen Intel(R) Core(TM) i7-12700H, instruction set [SSE2|AVX|AVX2]\n",
      "Thread count: 14 physical cores, 20 logical processors, using up to 20 threads\n",
      "\n",
      "Optimize a model with 45 rows, 165 columns and 290 nonzeros\n",
      "Model fingerprint: 0xaad894fe\n",
      "Coefficient statistics:\n",
      "  Matrix range     [1e+00, 1e+00]\n",
      "  Objective range  [3e+00, 6e+00]\n",
      "  Bounds range     [0e+00, 0e+00]\n",
      "  RHS range        [1e+02, 2e+03]\n",
      "Presolve removed 30 rows and 122 columns\n",
      "Presolve time: 0.00s\n",
      "Presolved: 15 rows, 43 columns, 65 nonzeros\n",
      "\n",
      "Iteration    Objective       Primal Inf.    Dual Inf.      Time\n",
      "       0    5.5060126e+03   8.725000e+02   0.000000e+00      0s\n",
      "      16    2.7511645e+04   0.000000e+00   0.000000e+00      0s\n",
      "\n",
      "Solved in 16 iterations and 0.01 seconds (0.00 work units)\n",
      "Optimal objective  2.751164520e+04\n",
      "Optimal Transportation Cost_c: 27511.645199616018\n"
     ]
    }
   ],
   "source": [
    "# Create the optimization model\n",
    "model = Model(\"modify the objective function\")\n",
    "\n",
    "\n",
    "# define tranship_cost_per_unit\n",
    "\n",
    "#avg_cost_direct = cost_prod_ref['Cost'].mean()\n",
    "avg_cost_transship = (cost_prod_trans['Cost'] + cost_trans_ref['Cost']).mean()\n",
    "#transship_cost_per_unit = avg_cost_transship - avg_cost_direct\n",
    "#print('tranship_cost_per_unit:',transship_cost_per_unit)\n",
    "\n",
    "transship_cost_per_unit =2\n",
    "\n",
    "print('\\n')\n",
    "\n",
    "# Define the indices for the facilities and centers\n",
    "direct_facilities = range(num_direct_facilities)  \n",
    "transship_facilities = range(num_transship_facilities)  \n",
    "refinement_centers = range(num_refinement_centers)  \n",
    "transship_centers = range(num_transship_centers)  \n",
    "\n",
    "# Create decision variables\n",
    "# Xij - Quantity from direct production facility i to refinement center j\n",
    "X = model.addVars(direct_facilities, refinement_centers,lb =0, vtype=GRB.CONTINUOUS, name=\"X\")\n",
    "\n",
    "# Yij - Quantity from transshipment production facility i to transshipment center j\n",
    "Y = model.addVars(transship_facilities, transship_centers,lb=0, vtype=GRB.CONTINUOUS, name=\"Y\")\n",
    "\n",
    "# Zjk - Quantity from transshipment center j to refinement center k\n",
    "Z = model.addVars(transship_centers, refinement_centers,lb=0, vtype=GRB.CONTINUOUS, name=\"Z\")\n",
    "\n",
    "\n",
    "\n",
    "# Add tranship_cost_per_unit in objective function\n",
    "model.setObjective(gb.quicksum(cost_prod_ref.iloc[i * num_refinement_centers + j]['Cost'] * X[i, j] \n",
    "                               for i in range(num_direct_facilities) \n",
    "                               for j in range(num_refinement_centers)) +\n",
    "                   gb.quicksum(cost_prod_trans.iloc[i * num_transship_centers + j]['Cost'] * Y[i, j] \n",
    "                               for i in range(num_transship_facilities) \n",
    "                               for j in range(num_transship_centers)) +\n",
    "                   gb.quicksum(cost_trans_ref.iloc[j * num_refinement_centers + k]['Cost'] * Z[j, k] \n",
    "                               for j in range(num_transship_centers) \n",
    "                               for k in range(num_refinement_centers)) +\n",
    "                   transship_cost_per_unit * (sum(Y[i, j] for i in transship_facilities for j in transship_centers) + \n",
    "                                              sum(Z[j, k] for j in transship_centers for k in refinement_centers)),\n",
    "                   GRB.MINIMIZE)\n",
    "\n",
    "\n",
    "# Define Constraints\n",
    "# Capacity constraints for direct production facilities\n",
    "for i in range(num_direct_facilities):\n",
    "    model.addConstr(gb.quicksum(X[i, j] for j in range(num_refinement_centers)) <= cap_direct[i])\n",
    "\n",
    "# Capacity constraints for transshipment production facilities\n",
    "for i in range(num_transship_facilities):\n",
    "    model.addConstr(gb.quicksum(Y[i, j] for j in range(num_transship_centers)) <= cap_transship_facilities[i])\n",
    "\n",
    "# Demand constraints at each refinement center\n",
    "for j in range(num_refinement_centers):\n",
    "    demand_j = demand_data.loc[j, 'Demand']  \n",
    "    model.addConstr(gb.quicksum(X[i, j] for i in range(num_direct_facilities)) +\n",
    "                    gb.quicksum(Z[k, j] for k in range(num_transship_centers)) == demand_j)\n",
    "\n",
    "\n",
    "model.optimize()\n",
    "\n",
    "    \n",
    "if model.status == GRB.Status.OPTIMAL:\n",
    "    optimal_cost_c = model.objVal\n",
    "    print(f\"Optimal Transportation Cost_c: {optimal_cost_c}\")\n",
    "else:\n",
    "    print(\"No optimal solution found\")"
   ]
  },
  {
   "cell_type": "markdown",
   "metadata": {},
   "source": [
    "## Quesion(d) Instead of modifying the objective function, how would you modify the constraint set to reduce the proportion of canola oil that is transshipped? Formulate and solve this model."
   ]
  },
  {
   "cell_type": "code",
   "execution_count": null,
   "metadata": {},
   "outputs": [
    {
     "name": "stdout",
     "output_type": "stream",
     "text": [
      "Gurobi Optimizer version 11.0.0 build v11.0.0rc2 (win64 - Windows 11.0 (22621.2))\n",
      "\n",
      "CPU model: 12th Gen Intel(R) Core(TM) i7-12700H, instruction set [SSE2|AVX|AVX2]\n",
      "Thread count: 14 physical cores, 20 logical processors, using up to 20 threads\n",
      "\n",
      "Optimize a model with 46 rows, 165 columns and 330 nonzeros\n",
      "Model fingerprint: 0xe972b87e\n",
      "Coefficient statistics:\n",
      "  Matrix range     [1e+00, 1e+00]\n",
      "  Objective range  [6e-01, 6e+00]\n",
      "  Bounds range     [0e+00, 0e+00]\n",
      "  RHS range        [1e+02, 4e+03]\n",
      "Presolve removed 15 rows and 35 columns\n",
      "Presolve time: 0.01s\n",
      "Presolved: 31 rows, 130 columns, 260 nonzeros\n",
      "\n",
      "Iteration    Objective       Primal Inf.    Dual Inf.      Time\n",
      "       0    1.7230583e+04   6.596921e+02   0.000000e+00      0s\n",
      "      23    1.9316094e+04   0.000000e+00   0.000000e+00      0s\n",
      "\n",
      "Solved in 23 iterations and 0.01 seconds (0.00 work units)\n",
      "Optimal objective  1.931609402e+04\n",
      "\n",
      "\n",
      "Optimal Transportation Cost_d: 19316.09402337471\n"
     ]
    }
   ],
   "source": [
    "model = Model(\"Can2Oil Transshipment Problem\")\n",
    "\n",
    "\n",
    "# 计算所有转运中心的总容量\n",
    "cap_transship_centers = data['transship_capacity_centers']['Capacity'].values\n",
    "total_transship_center_capacity = sum(cap_transship_centers)\n",
    "\n",
    "\n",
    "# 将转运量的上限设定为转运中心能力的 50%\n",
    "#max_transship_amount = 0.5 * total_transship_center_capacity\n",
    "max_transship_amount = 0.5* total_demand\n",
    "\n",
    "\n",
    "# Define the indices for the facilities and centers\n",
    "direct_facilities = range(num_direct_facilities)  \n",
    "transship_facilities = range(num_transship_facilities)  \n",
    "refinement_centers = range(num_refinement_centers)  \n",
    "transship_centers = range(num_transship_centers)  \n",
    "\n",
    "# Create decision variables\n",
    "# Xij - Quantity from direct production facility i to refinement center j\n",
    "X = model.addVars(direct_facilities, refinement_centers,lb =0, vtype=GRB.CONTINUOUS, name=\"X\")\n",
    "\n",
    "# Yij - Quantity from transshipment production facility i to transshipment center j\n",
    "Y = model.addVars(transship_facilities, transship_centers,lb=0, vtype=GRB.CONTINUOUS, name=\"Y\")\n",
    "\n",
    "# Zjk - Quantity from transshipment center j to refinement center k\n",
    "Z = model.addVars(transship_centers, refinement_centers,lb=0, vtype=GRB.CONTINUOUS, name=\"Z\")\n",
    "\n",
    "\n",
    "# define Objective function: Minimize total cost\n",
    "model.setObjective(gb.quicksum(cost_prod_ref.iloc[i * num_refinement_centers + j]['Cost'] * X[i, j] \n",
    "                               for i in range(num_direct_facilities) \n",
    "                               for j in range(num_refinement_centers)) +\n",
    "                   gb.quicksum(cost_prod_trans.iloc[i * num_transship_centers + j]['Cost'] * Y[i, j] \n",
    "                               for i in range(num_transship_facilities) \n",
    "                               for j in range(num_transship_centers)) +\n",
    "                   gb.quicksum(cost_trans_ref.iloc[j * num_refinement_centers + k]['Cost'] * Z[j, k] \n",
    "                               for j in range(num_transship_centers) \n",
    "                               for k in range(num_refinement_centers)),\n",
    "                   GRB.MINIMIZE)\n",
    "\n",
    "\n",
    "\n",
    "# add Constraints\n",
    "model.addConstr(sum(Y[i, j] for i in transship_facilities for j in transship_centers) +\n",
    "                sum(Z[j, k] for j in transship_centers for k in refinement_centers) <= max_transship_amount)\n",
    "\n",
    "# Capacity constraints for direct production facilities\n",
    "for i in range(num_direct_facilities):\n",
    "    model.addConstr(gb.quicksum(X[i, j] for j in range(num_refinement_centers)) <= cap_direct[i])\n",
    "\n",
    "# Capacity constraints for transshipment production facilities\n",
    "for i in range(num_transship_facilities):\n",
    "    model.addConstr(gb.quicksum(Y[i, j] for j in range(num_transship_centers)) <= cap_transship_facilities[i])\n",
    "\n",
    "# Demand constraints at each refinement center\n",
    "for j in range(num_refinement_centers):\n",
    "    demand_j = demand_data.loc[j, 'Demand']  \n",
    "    model.addConstr(gb.quicksum(X[i, j] for i in range(num_direct_facilities)) +\n",
    "                    gb.quicksum(Z[k, j] for k in range(num_transship_centers)) == demand_j)\n",
    "\n",
    "# optimize the model    \n",
    "model.optimize()\n",
    "\n",
    "print('\\n')\n",
    "# Check if the solution is found\n",
    "if model.status == GRB.Status.OPTIMAL:\n",
    "    optimal_cost_d = model.objVal\n",
    "    print(f\"Optimal Transportation Cost_d: {optimal_cost_d}\")\n",
    "else:\n",
    "    print(\"No optimal solution found\")"
   ]
  },
  {
   "cell_type": "markdown",
   "metadata": {},
   "source": [
    "## Question (e) Which of the two modeling approaches would you recommend the company take to determine a transportation plan that reduces the amount of canola oil that is transshipped?"
   ]
  },
  {
   "cell_type": "markdown",
   "metadata": {},
   "source": [
    "The approach in question(d): modify the constraint set to reduce the proportion of canola oil that is transshipped"
   ]
  },
  {
   "cell_type": "markdown",
   "metadata": {},
   "source": [
    "## Question(f): re-shoring is the practice of transferring overseas business operations closer to the home country. Given its prevalence in today’s economy, how would you alter the original model to favor producers closer to North America? Formulate and solve this model.\n"
   ]
  },
  {
   "cell_type": "code",
   "execution_count": null,
   "metadata": {},
   "outputs": [
    {
     "name": "stdout",
     "output_type": "stream",
     "text": [
      "Gurobi Optimizer version 11.0.0 build v11.0.0rc2 (win64 - Windows 11.0 (22621.2))\n",
      "\n",
      "CPU model: 12th Gen Intel(R) Core(TM) i7-12700H, instruction set [SSE2|AVX|AVX2]\n",
      "Thread count: 14 physical cores, 20 logical processors, using up to 20 threads\n",
      "\n",
      "Optimize a model with 45 rows, 165 columns and 290 nonzeros\n",
      "Model fingerprint: 0xd8c4af9a\n",
      "Coefficient statistics:\n",
      "  Matrix range     [1e+00, 1e+00]\n",
      "  Objective range  [6e-01, 6e+00]\n",
      "  Bounds range     [0e+00, 0e+00]\n",
      "  RHS range        [1e+02, 2e+03]\n",
      "Presolve removed 45 rows and 165 columns\n",
      "Presolve time: 0.00s\n",
      "Presolve: All rows and columns removed\n",
      "Iteration    Objective       Primal Inf.    Dual Inf.      Time\n",
      "       0    1.7120914e+04   0.000000e+00   0.000000e+00      0s\n",
      "\n",
      "Solved in 0 iterations and 0.01 seconds (0.00 work units)\n",
      "Optimal objective  1.712091396e+04\n",
      "Optimal Transportation Cost_f: 17120.913962479914\n"
     ]
    }
   ],
   "source": [
    "import pandas as pd\n",
    "from gurobipy import GRB, Model\n",
    "import gurobipy as gb\n",
    "\n",
    "# create model\n",
    "model = Model(\"Can2Oil Transshipment Problem\")\n",
    "\n",
    "\n",
    "# Define the indices for the facilities and centers\n",
    "direct_facilities = range(num_direct_facilities)  \n",
    "transship_facilities = range(num_transship_facilities)  \n",
    "refinement_centers = range(num_refinement_centers)  \n",
    "transship_centers = range(num_transship_centers)  \n",
    "\n",
    "# Create decision variables\n",
    "# Xij - Quantity from direct production facility i to refinement center j\n",
    "X = model.addVars(direct_facilities, refinement_centers,lb =0, vtype=GRB.CONTINUOUS, name=\"X\")\n",
    "\n",
    "# Yij - Quantity from transshipment production facility i to transshipment center j\n",
    "Y = model.addVars(transship_facilities, transship_centers,lb=0, vtype=GRB.CONTINUOUS, name=\"Y\")\n",
    "\n",
    "# Zjk - Quantity from transshipment center j to refinement center k\n",
    "Z = model.addVars(transship_centers, refinement_centers,lb=0, vtype=GRB.CONTINUOUS, name=\"Z\")\n",
    "\n",
    "# define Objective function: Minimize total cost\n",
    "model.setObjective(gb.quicksum(cost_prod_ref.iloc[i * num_refinement_centers + j]['Cost'] * X[i, j] \n",
    "                               for i in range(num_direct_facilities) \n",
    "                               for j in range(num_refinement_centers)) +\n",
    "                   gb.quicksum(cost_prod_trans.iloc[i * num_transship_centers + j]['Cost'] * Y[i, j] \n",
    "                               for i in range(num_transship_facilities) \n",
    "                               for j in range(num_transship_centers)) +\n",
    "                   gb.quicksum(cost_trans_ref.iloc[j * num_refinement_centers + k]['Cost'] * Z[j, k] \n",
    "                               for j in range(num_transship_centers) \n",
    "                               for k in range(num_refinement_centers)),\n",
    "                   GRB.MINIMIZE)\n",
    "\n",
    "# Constraints\n",
    "# Capacity constraints for direct production facilities\n",
    "for i in range(num_direct_facilities):\n",
    "    model.addConstr(gb.quicksum(X[i, j] for j in range(num_refinement_centers)) <= cap_direct[i])\n",
    "\n",
    "# Capacity constraints for transshipment production facilities\n",
    "for i in range(num_transship_facilities):\n",
    "    model.addConstr(gb.quicksum(Y[i, j] for j in range(num_transship_centers)) <= cap_transship_facilities[i])\n",
    "\n",
    "# Demand constraints at each refinement center\n",
    "for j in range(num_refinement_centers):\n",
    "    demand_j = demand_data.loc[j, 'Demand']  \n",
    "    model.addConstr(gb.quicksum(X[i, j] for i in range(num_direct_facilities)) +\n",
    "                    gb.quicksum(Z[k, j] for k in range(num_transship_centers)) == demand_j)\n",
    "\n",
    "\n",
    "\n",
    "# 确定更接近北美的生产设施\n",
    "north_america_facilities = [1, 2, 3, 4, 5, 6, 7, 8, 9, 10, 11, 12, 13, 14, 15]  # 示例编号\n",
    "\n",
    "# 调整这些设施的运输成本\n",
    "cost_reduction_factor = 0.9  # 例如减少 10%\n",
    "cost_prod_ref.loc[cost_prod_ref['ProductionFacility'].isin(north_america_facilities), 'Cost'] *= cost_reduction_factor\n",
    "\n",
    "\n",
    "# 求解模型\n",
    "model.optimize()\n",
    "\n",
    "# 输出结果\n",
    "if model.status == GRB.Status.OPTIMAL:\n",
    "    optimal_cost_f = model.objVal\n",
    "    print(f\"Optimal Transportation Cost_f: {optimal_cost_f}\")\n",
    "else:\n",
    "    print(\"No optimal solution found\")\n"
   ]
  },
  {
   "cell_type": "markdown",
   "metadata": {},
   "source": [
    "## Question (g) Do you expect the optimal solution to the re-shoring model to be similar to the optimal solution of the model that attempts to reduce transshipment? Why or why not?"
   ]
  },
  {
   "cell_type": "markdown",
   "metadata": {},
   "source": [
    "Answer : Yes, re-shoring model would be better solution due to the total transportion cost with re-shoring solution is lower than the solution with reducing the transshipment. "
   ]
  },
  {
   "cell_type": "code",
   "execution_count": 143,
   "metadata": {},
   "outputs": [
    {
     "name": "stdout",
     "output_type": "stream",
     "text": [
      "     Model  Optimal Cost\n",
      "3  Model F  17120.913962\n",
      "0  Model A  17267.260247\n",
      "2  Model D  19316.094023\n",
      "1  Model C  27511.645200\n",
      "The best solution is provided by Model F with a cost of 17120.913962479914\n"
     ]
    }
   ],
   "source": [
    "# create a dictionalyr\n",
    "results = {\n",
    "    \"Model A\": optimal_cost_a,\n",
    "    \"Model C\": optimal_cost_c,\n",
    "    \"Model D\": optimal_cost_d,\n",
    "    \"Model F\": optimal_cost_f\n",
    "}\n",
    "\n",
    "# convert to dataframe\n",
    "results_df = pd.DataFrame(list(results.items()), columns=[\"Model\", \"Optimal Cost\"])\n",
    "\n",
    "sorted_results_df = results_df.sort_values(by=\"Optimal Cost\")\n",
    "\n",
    "print(sorted_results_df)\n",
    "\n",
    "best_model = sorted_results_df.iloc[0]\n",
    "print(f\"The best solution is provided by {best_model['Model']} with a cost of {best_model['Optimal Cost']}\")"
   ]
  },
  {
   "cell_type": "code",
   "execution_count": null,
   "metadata": {},
   "outputs": [],
   "source": []
  }
 ],
 "metadata": {
  "kernelspec": {
   "display_name": "Python 3",
   "language": "python",
   "name": "python3"
  },
  "language_info": {
   "codemirror_mode": {
    "name": "ipython",
    "version": 3
   },
   "file_extension": ".py",
   "mimetype": "text/x-python",
   "name": "python",
   "nbconvert_exporter": "python",
   "pygments_lexer": "ipython3",
   "version": "3.11.7"
  }
 },
 "nbformat": 4,
 "nbformat_minor": 2
}
