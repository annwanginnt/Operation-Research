{
 "cells": [
  {
   "cell_type": "code",
   "execution_count": 1,
   "metadata": {},
   "outputs": [],
   "source": [
    "from gurobipy import GRB\n",
    "import gurobipy as gb\n",
    "import numpy as np"
   ]
  },
  {
   "cell_type": "code",
   "execution_count": 2,
   "metadata": {},
   "outputs": [
    {
     "name": "stdout",
     "output_type": "stream",
     "text": [
      "Set parameter Username\n",
      "Academic license - for non-commercial use only - expires 2025-01-15\n"
     ]
    }
   ],
   "source": [
    "model = gb.Model(\"Sunnyshore_Bay_Optimization\")"
   ]
  },
  {
   "cell_type": "code",
   "execution_count": 25,
   "metadata": {},
   "outputs": [],
   "source": [
    "months = [\"May\", \"June\", \"July\"]\n",
    "month_end = [\"May\", \"June\", \"July\", \"Aug\"]\n",
    "terms = [1, 2, 3]"
   ]
  },
  {
   "cell_type": "code",
   "execution_count": 26,
   "metadata": {},
   "outputs": [],
   "source": [
    "# Decision Variables\n",
    "B = {}\n",
    "for i in months:\n",
    "    for j in terms:\n",
    "        B[i, j] = model.addVar(lb = 0, name=\"Borrow\", vtype=GRB.CONTINUOUS)\n",
    "\n",
    "cash_balances = {}\n",
    "for m in month_end:\n",
    "    cash_balances[m] = model.addVar(lb=0, name=\"Cash_balance\", vtype=GRB.CONTINUOUS)\n",
    "\n",
    "# Objective Function\n",
    "interest_rates = {1: 0.0175, 2: 0.0225, 3: 0.0275}\n",
    "\n",
    "# Set the objective function\n",
    "model.setObjective(\n",
    "    gb.quicksum(B[i, j] + B[i, j] * interest_rates[j] for i in months for j in terms),\n",
    "    sense=GRB.MINIMIZE,\n",
    ")"
   ]
  },
  {
   "cell_type": "code",
   "execution_count": 27,
   "metadata": {},
   "outputs": [
    {
     "name": "stdout",
     "output_type": "stream",
     "text": [
      "Gurobi Optimizer version 11.0.0 build v11.0.0rc2 (win64 - Windows 11.0 (22621.2))\n",
      "\n",
      "CPU model: 11th Gen Intel(R) Core(TM) i7-1165G7 @ 2.80GHz, instruction set [SSE2|AVX|AVX2|AVX512]\n",
      "Thread count: 4 physical cores, 8 logical processors, using up to 8 threads\n",
      "\n",
      "Optimize a model with 63 rows, 52 columns and 151 nonzeros\n",
      "Coefficient statistics:\n",
      "  Matrix range     [7e-01, 1e+00]\n",
      "  Objective range  [1e+00, 1e+00]\n",
      "  Bounds range     [0e+00, 0e+00]\n",
      "  RHS range        [2e+04, 4e+05]\n",
      "LP warm-start: use basis\n",
      "Iteration    Objective       Primal Inf.    Dual Inf.      Time\n",
      "       0    0.0000000e+00   7.080000e+05   0.000000e+00      0s\n",
      "       7    1.4290473e+05   0.000000e+00   0.000000e+00      0s\n",
      "\n",
      "Solved in 7 iterations and 0.01 seconds (0.00 work units)\n",
      "Optimal objective  1.429047297e+05\n"
     ]
    }
   ],
   "source": [
    "#Constraints on the borrow terms\n",
    "constraint1 = model.addConstr(B[\"June\", 3] == 0, \"no_june_3_month\")\n",
    "constraint2 = model.addConstr(B[\"July\", 2] == 0, \"no_july_2_month\")\n",
    "constraint3 = model.addConstr(B[\"July\", 3] == 0, \"no_july_3_month\")\n",
    "\n",
    "# Add constraints\n",
    "model.addConstr(cash_balances[\"May\"] == 140000 + B[\"May\", 1] + B[\"May\", 2] + B[\"May\", 3] + 180000 - 300000, \"Cash Balance May\")\n",
    "model.addConstr(cash_balances[\"June\"] == cash_balances[\"May\"] + B[\"June\", 1] + B[\"June\", 2] - 1.0175*B[\"May\", 1]+ 260000 - 400000, \"Cash Balance June\")\n",
    "model.addConstr(cash_balances[\"July\"] == cash_balances[\"June\"] + B[\"July\", 1] -1.0225*B[\"May\", 2] - 1.0175*B[\"June\", 1] + 420000- 350000, \"Cash Balance July\")\n",
    "model.addConstr(cash_balances[\"Aug\"] == cash_balances[\"July\"] -1.0275*B[\"May\", 3] -1.0225*B[\"June\", 2] -1.0175*B[\"July\", 1]+ 580000- 200000, \"Cash Balance August\")\n",
    "\n",
    "# Cash balance Constraints\n",
    "constraint4 = model.addConstr(cash_balances[\"May\"] >= 25000, \"Min Cash Balance May\")\n",
    "constraint5 = model.addConstr(cash_balances[\"June\"] >= 20000, \"Min Cash Balance June\")\n",
    "constraint6 = model.addConstr(cash_balances[\"July\"] >= 35000, \"Min Cash Balance July\")\n",
    "constraint7 = model.addConstr(cash_balances[\"Aug\"] >= 18000, \"Min Cash Balance August\")\n",
    "\n",
    "# Total amount borrowed constraints\n",
    "constraint8 = model.addConstr(sum(B[\"May\", t] for t in [1, 2, 3]) <= 250000, \"Total Borrowing Limit May\")\n",
    "constraint9 = model.addConstr(sum(B[\"June\", t] for t in [1, 2,3]) <= 150000, \"Total Borrowing Limit June\")\n",
    "constraint10 = model.addConstr(sum(B[\"July\", t] for t in [1,2,3]) <= 350000, \"Total Borrowing Limit July\")\n",
    "\n",
    "# Cash balance ratio at the end of July constraint\n",
    "constraint11 = model.addConstr(cash_balances[\"July\"] >= 0.65 * (cash_balances[\"May\"] + cash_balances[\"June\"]), \"Cash Balance Ratio July\")\n",
    "\n",
    "# Solve the model\n",
    "model.optimize()"
   ]
  },
  {
   "cell_type": "markdown",
   "metadata": {},
   "source": [
    "### (a) How many different investments can be made over the 4-month period?"
   ]
  },
  {
   "cell_type": "code",
   "execution_count": 21,
   "metadata": {},
   "outputs": [
    {
     "name": "stdout",
     "output_type": "stream",
     "text": [
      "Number of Investments:\n",
      "9\n"
     ]
    }
   ],
   "source": [
    "print(\"Number of Investments:\")\n",
    "print(len(B))"
   ]
  },
  {
   "cell_type": "markdown",
   "metadata": {},
   "source": [
    "### Exclude the investment in June for 3 months term and investments in July for 2 month and 3 month term. The total investments can be made are 6=9-3"
   ]
  },
  {
   "cell_type": "markdown",
   "metadata": {},
   "source": [
    "### (b) Write down the cash balance constraint for money on-hand at the end of June"
   ]
  },
  {
   "cell_type": "markdown",
   "metadata": {},
   "source": [
    "model.addConstr(cash_balances[\"June\"] >= 20000, \"Min Cash Balance June\")"
   ]
  },
  {
   "cell_type": "markdown",
   "metadata": {},
   "source": [
    "### (c) Write down the linear ratio constraint associated with the cash balance at the end of July"
   ]
  },
  {
   "cell_type": "markdown",
   "metadata": {},
   "source": [
    "model.addConstr(cash_balances[\"July\"] >= 0.65 * (cash_balances[\"May\"] + cash_balances[\"June\"]), \"Cash Balance Ratio July\")"
   ]
  },
  {
   "cell_type": "markdown",
   "metadata": {},
   "source": [
    "### (d) What is the total amount that Sunnyshore Bay has to repay to the bank over the entire season"
   ]
  },
  {
   "cell_type": "code",
   "execution_count": 22,
   "metadata": {},
   "outputs": [
    {
     "name": "stdout",
     "output_type": "stream",
     "text": [
      "Total Amount to Repay: 380000.0\n"
     ]
    }
   ],
   "source": [
    "# Value of the objective function\n",
    "print(f\"Total Amount to Repay: {model.objVal}\")"
   ]
  },
  {
   "cell_type": "markdown",
   "metadata": {},
   "source": [
    "### (e) How much money does Sunnyshore Bay withdraw in May from all loans?"
   ]
  },
  {
   "cell_type": "code",
   "execution_count": 30,
   "metadata": {},
   "outputs": [
    {
     "name": "stdout",
     "output_type": "stream",
     "text": [
      "B11 = 0.0\n",
      "B12 = 0.0\n",
      "B13 = 5000.0\n"
     ]
    }
   ],
   "source": [
    "optimal_B11 = B[\"May\",1].x\n",
    "optimal_B12 = B[\"May\",2].x\n",
    "optimal_B13 = B[\"May\",3].x\n",
    "\n",
    "print(f\"B11 = {optimal_B11}\")\n",
    "print(f\"B12 = {optimal_B12}\")\n",
    "print(f\"B13 = {optimal_B13}\")"
   ]
  },
  {
   "cell_type": "markdown",
   "metadata": {},
   "source": [
    "### Sunnyshore Bay withdraw a loan of $5000 with 3 month term in May"
   ]
  },
  {
   "cell_type": "markdown",
   "metadata": {},
   "source": [
    "### (f) What is the cash balance at the end of August?"
   ]
  },
  {
   "cell_type": "code",
   "execution_count": 16,
   "metadata": {},
   "outputs": [
    {
     "name": "stdout",
     "output_type": "stream",
     "text": [
      "Aug Cash Balance: <gurobi.Var C[m] (value 326963.3753071253)>\n"
     ]
    }
   ],
   "source": [
    "print(\"Aug Cash Balance:\", cash_balances[\"Aug\"])"
   ]
  },
  {
   "cell_type": "markdown",
   "metadata": {},
   "source": [
    "### (g) Due to potential unexpected repairs, one of the managers has suggested increasing the minimum cash balance for June to $27,500. How much will now have to be repaid if this change is approved?"
   ]
  },
  {
   "cell_type": "code",
   "execution_count": 10,
   "metadata": {},
   "outputs": [
    {
     "name": "stdout",
     "output_type": "stream",
     "text": [
      "Gurobi Optimizer version 11.0.0 build v11.0.0rc2 (win64 - Windows 11.0 (22621.2))\n",
      "\n",
      "CPU model: 11th Gen Intel(R) Core(TM) i7-1165G7 @ 2.80GHz, instruction set [SSE2|AVX|AVX2|AVX512]\n",
      "Thread count: 4 physical cores, 8 logical processors, using up to 8 threads\n",
      "\n",
      "Optimize a model with 18 rows, 13 columns and 41 nonzeros\n",
      "Coefficient statistics:\n",
      "  Matrix range     [7e-01, 1e+00]\n",
      "  Objective range  [1e+00, 1e+00]\n",
      "  Bounds range     [0e+00, 0e+00]\n",
      "  RHS range        [2e+04, 4e+05]\n",
      "LP warm-start: use basis\n",
      "Iteration    Objective       Primal Inf.    Dual Inf.      Time\n",
      "       0    1.5053662e+05   0.000000e+00   0.000000e+00      0s\n",
      "\n",
      "Solved in 0 iterations and 0.00 seconds (0.00 work units)\n",
      "Optimal objective  1.505366247e+05\n",
      "Total Amount to Repay: 150536.6246928747\n"
     ]
    }
   ],
   "source": [
    "constraint5 = model.addConstr(cash_balances[\"June\"] >= 27500, \"Min Cash Balance June\")\n",
    "\n",
    "# Solve the model\n",
    "model.optimize()\n",
    "\n",
    "print(f\"Total Amount to Repay: {model.objVal}\")"
   ]
  },
  {
   "cell_type": "markdown",
   "metadata": {},
   "source": [
    "### (h) Formulate and solve the dual linear program demonstrating that the model you create is, indeed, the correct dual problem of the primal formulation."
   ]
  },
  {
   "cell_type": "code",
   "execution_count": 209,
   "metadata": {},
   "outputs": [
    {
     "name": "stdout",
     "output_type": "stream",
     "text": [
      "Optimal Solution:\n",
      "B11 = 0.0\n",
      "B12 = 0.0\n",
      "B13 = 5000.0\n",
      "B21 = 54054.05405405405\n",
      "B22 = 80945.94594594595\n",
      "B31 = 0.0\n",
      "Optimal Objective Value:\n",
      "z = 142904.72972972973\n",
      "Shadow Prices:  (0.0050000000000001155, 1.0175859950859951, 0.004914004914004844, 0.0, 0.0, 0.0, 0.0, 0.0)\n"
     ]
    }
   ],
   "source": [
    "# Check if the optimization was successful\n",
    "if model.status == gb.GRB.OPTIMAL:\n",
    "    # Get the optimal solution and objective value\n",
    "    optimal_B11 = B[\"May\",1].x\n",
    "    optimal_B12 = B[\"May\",2].x\n",
    "    optimal_B13 = B[\"May\",3].x\n",
    "    optimal_B21 = B[\"June\",1].x\n",
    "    optimal_B22 = B[\"June\",2].x\n",
    "    optimal_B31 = B[\"July\",1].x\n",
    "    optimal_objective_value = model.objVal\n",
    "\n",
    "    # Print the results\n",
    "    print(\"Optimal Solution:\")\n",
    "    print(f\"B11 = {optimal_B11}\")\n",
    "    print(f\"B12 = {optimal_B12}\")\n",
    "    print(f\"B13 = {optimal_B13}\")\n",
    "    print(f\"B21 = {optimal_B21}\")\n",
    "    print(f\"B22 = {optimal_B22}\")\n",
    "    print(f\"B31 = {optimal_B31}\")\n",
    "    print(\"Optimal Objective Value:\")\n",
    "    print(f\"z = {optimal_objective_value}\")\n",
    "    \n",
    "    # These should equal the optimal solution to the dual problem\n",
    "    print(\"Shadow Prices: \", (constraint4.pi, constraint5.pi, constraint6.pi, constraint7.pi, constraint8.pi, constraint9.pi, constraint10.pi, constraint11.pi))\n",
    "else:\n",
    "    print(\"No feasible solution found.\")"
   ]
  },
  {
   "cell_type": "code",
   "execution_count": 191,
   "metadata": {},
   "outputs": [],
   "source": [
    "model_p = gb.Model(\"Primal Problem\")"
   ]
  },
  {
   "cell_type": "code",
   "execution_count": 192,
   "metadata": {},
   "outputs": [],
   "source": [
    "# Primal variables\n",
    "y1 = model_p.addVar(lb=0, vtype=gb.GRB.CONTINUOUS, name=\"y1\")\n",
    "y2 = model_p.addVar(lb=0, vtype=gb.GRB.CONTINUOUS, name=\"y2\")\n",
    "y3 = model_p.addVar(lb=0, vtype=gb.GRB.CONTINUOUS, name=\"y3\")\n",
    "y4 = model_p.addVar(lb=0, vtype=gb.GRB.CONTINUOUS, name=\"y4\")\n",
    "y5 = model_p.addVar(lb=0, vtype=gb.GRB.CONTINUOUS, name=\"y5\")\n",
    "y6 = model_p.addVar(lb=0, vtype=gb.GRB.CONTINUOUS, name=\"y6\")\n",
    "y7 = model_p.addVar(lb=0, vtype=gb.GRB.CONTINUOUS, name=\"y7\")\n",
    "y8 = model_p.addVar(lb=0, vtype=gb.GRB.CONTINUOUS, name=\"y8\")"
   ]
  },
  {
   "cell_type": "code",
   "execution_count": 193,
   "metadata": {},
   "outputs": [],
   "source": [
    "\n",
    "constraint4 = B[\"May\", 1] + B[\"May\", 2] + B[\"May\", 3] >= 5000\n",
    "constraint5 = -0.0175*B[\"May\", 1]+ B[\"May\", 2] + B[\"May\", 3]  + B[\"June\", 1] + B[\"June\", 2] >= 140000\n",
    "constraint6 = -0.0175*B[\"May\", 1] -0.0225*B[\"May\", 2]+ B[\"May\", 3] - 0.0175*B[\"June\", 1] + B[\"June\", 2] + B[\"July\", 1]  >= 85000\n",
    "constraint7 = -0.0175*B[\"May\", 1] - 0.0225*B[\"May\", 2] - 0.0275*B[\"May\", 3] - 0.0175*B[\"June\", 1] - 0.0225*B[\"June\", 2] - 0.0175*B[\"July\", 1] >= -312000\n",
    "\n",
    "constraint8 = -B[\"May\", 1] - B[\"May\", 2] - B[\"May\", 3] >= -250000\n",
    "constraint9 = -B[\"June\", 1] -B[\"June\", 2]>= -150000\n",
    "constraint10 = -B[\"July\", 1]>= -350000\n",
    "\n",
    "constraint11 = -0.6561256*B[\"May\",1] -1.3225*B[\"May\",2] -0.3*B[\"May\",3]-0.6675*B[\"June\",1]+0.35*B[\"June\",2]+B[\"July\",1] >= -15000\n"
   ]
  },
  {
   "cell_type": "code",
   "execution_count": 194,
   "metadata": {},
   "outputs": [],
   "source": [
    "# Set the objective function to maximize\n",
    "model_p.setObjective(5000*y1 + 140000*y2 + 85000*y3 - 312000*y4-250000*y5 -150000*y6 - 350000*y7 -15000*y8, gb.GRB.MAXIMIZE)"
   ]
  },
  {
   "cell_type": "code",
   "execution_count": 195,
   "metadata": {},
   "outputs": [],
   "source": [
    "coefficient_constraint = np.matrix([\n",
    "    [1, 1, 1, 0, 0, 0],\n",
    "    [-0.0175, 1, 1, 1, 1, 0],\n",
    "    [-0.0175, -0.0225, 1, -0.0175, 1, 1],\n",
    "    [-0.0175, -0.0225, -0.0275, -0.0175, -0.0225, -0.0175],\n",
    "    [-1, -1, -1, 0, 0, 0],\n",
    "    [0, 0, 0, -1, -1, 0],\n",
    "    [0, 0, 0, 0, 0, -1],\n",
    "    [-0.6561256, -1.3225, -0.3, -0.6675, 0.35, 1]\n",
    "])"
   ]
  },
  {
   "cell_type": "code",
   "execution_count": 196,
   "metadata": {},
   "outputs": [
    {
     "data": {
      "text/plain": [
       "matrix([[ 1.       , -0.0175   , -0.0175   , -0.0175   , -1.       ,\n",
       "          0.       ,  0.       , -0.6561256],\n",
       "        [ 1.       ,  1.       , -0.0225   , -0.0225   , -1.       ,\n",
       "          0.       ,  0.       , -1.3225   ],\n",
       "        [ 1.       ,  1.       ,  1.       , -0.0275   , -1.       ,\n",
       "          0.       ,  0.       , -0.3      ],\n",
       "        [ 0.       ,  1.       , -0.0175   , -0.0175   ,  0.       ,\n",
       "         -1.       ,  0.       , -0.6675   ],\n",
       "        [ 0.       ,  1.       ,  1.       , -0.0225   ,  0.       ,\n",
       "         -1.       ,  0.       ,  0.35     ],\n",
       "        [ 0.       ,  0.       ,  1.       , -0.0175   ,  0.       ,\n",
       "          0.       , -1.       ,  1.       ]])"
      ]
     },
     "execution_count": 196,
     "metadata": {},
     "output_type": "execute_result"
    }
   ],
   "source": [
    "transposed_coefficient = coefficient_constraint.T\n",
    "transposed_coefficient"
   ]
  },
  {
   "cell_type": "code",
   "execution_count": 197,
   "metadata": {},
   "outputs": [
    {
     "data": {
      "text/plain": [
       "array([1.0175, 1.0225, 1.0275, 1.0175, 1.0225, 1.0175])"
      ]
     },
     "execution_count": 197,
     "metadata": {},
     "output_type": "execute_result"
    }
   ],
   "source": [
    "function_coefficient = np.array([1.0175,1.0225,1.0275,1.0175,1.0225,1.0175])\n",
    "function_coefficient"
   ]
  },
  {
   "cell_type": "code",
   "execution_count": 198,
   "metadata": {},
   "outputs": [],
   "source": [
    "dual_constraint1 = model_p.addConstr((y1-0.0175*y2 - 0.0175*y3 - 0.0175*y4 - y5-0.6561256*y8) <=1.0175)\n",
    "dual_constraint2 = model_p.addConstr((y1+y2 - 0.0225*y3 - 0.0225*y4 - y5+1.3225*y8) <=1.0225)\n",
    "dual_constraint3 = model_p.addConstr((y1+y2 +y3 - 0.0275*y4 - y5-0.3*y8) <=1.0275)\n",
    "dual_constraint4 = model_p.addConstr((y2 -0.0175*y3 -0.0175*y4 - y6-0.6675*y8) <=1.0175)\n",
    "dual_constraint5 = model_p.addConstr((y2 +y3 -0.0225*y4 - y6+0.35*y8) <=1.0225)\n",
    "dual_constraint6 = model_p.addConstr((y3 -0.0175*y4 - y7+y8) <=1.0175)"
   ]
  },
  {
   "cell_type": "code",
   "execution_count": 199,
   "metadata": {},
   "outputs": [
    {
     "name": "stdout",
     "output_type": "stream",
     "text": [
      "Gurobi Optimizer version 11.0.0 build v11.0.0rc2 (win64 - Windows 11.0 (22621.2))\n",
      "\n",
      "CPU model: 11th Gen Intel(R) Core(TM) i7-1165G7 @ 2.80GHz, instruction set [SSE2|AVX|AVX2|AVX512]\n",
      "Thread count: 4 physical cores, 8 logical processors, using up to 8 threads\n",
      "\n",
      "Optimize a model with 6 rows, 8 columns and 32 nonzeros\n",
      "Model fingerprint: 0x9014500d\n",
      "Coefficient statistics:\n",
      "  Matrix range     [2e-02, 1e+00]\n",
      "  Objective range  [5e+03, 4e+05]\n",
      "  Bounds range     [0e+00, 0e+00]\n",
      "  RHS range        [1e+00, 1e+00]\n",
      "Presolve removed 0 rows and 1 columns\n",
      "Presolve time: 0.00s\n",
      "Presolved: 6 rows, 7 columns, 26 nonzeros\n",
      "\n",
      "Iteration    Objective       Primal Inf.    Dual Inf.      Time\n",
      "       0    2.3000000e+35   9.925000e+30   2.300000e+05      0s\n",
      "       6    1.4290473e+05   0.000000e+00   0.000000e+00      0s\n",
      "\n",
      "Solved in 6 iterations and 0.01 seconds (0.00 work units)\n",
      "Optimal objective  1.429047297e+05\n"
     ]
    }
   ],
   "source": [
    "model_p.optimize()"
   ]
  },
  {
   "cell_type": "code",
   "execution_count": 212,
   "metadata": {},
   "outputs": [
    {
     "name": "stdout",
     "output_type": "stream",
     "text": [
      "Optimal Primal Solution:\n",
      "y1 = 0.0050000000000001155\n",
      "y2 = 1.0175859950859951\n",
      "y3 = 0.004914004914004844\n",
      "y4 = 0.004914004914004844\n",
      "y5 = 0.004914004914004844\n",
      "y6 = 0.004914004914004844\n",
      "y7 = 0.004914004914004844\n",
      "y8 = 0.004914004914004844\n",
      "Optimal Primal Objective Value:\n",
      "Primal z = 142904.72972972973\n",
      "Shadow Prices:  (0.0, 0.0, 5000.0, 54054.05405405405, 80945.94594594595, 0.0)\n"
     ]
    }
   ],
   "source": [
    "# Check if the optimization was successful\n",
    "if model_p.status == gb.GRB.OPTIMAL:\n",
    "    # Get the optimal solution and objective value for the dual problem\n",
    "    optimal_y1 = y1.x\n",
    "    optimal_y2 = y2.x\n",
    "    optimal_y3 = y3.x\n",
    "    optimal_y4 = y3.x\n",
    "    optimal_y5 = y3.x\n",
    "    optimal_y6 = y3.x\n",
    "    optimal_y7 = y3.x\n",
    "    optimal_y8 = y3.x\n",
    "    optimal_dual_objective_value = model_p.objVal\n",
    "\n",
    "    # Print the results\n",
    "    print(\"Optimal Primal Solution:\")\n",
    "    print(f\"y1 = {optimal_y1}\")\n",
    "    print(f\"y2 = {optimal_y2}\")\n",
    "    print(f\"y3 = {optimal_y3}\")\n",
    "    print(f\"y4 = {optimal_y4}\")\n",
    "    print(f\"y5 = {optimal_y5}\")\n",
    "    print(f\"y6 = {optimal_y6}\")\n",
    "    print(f\"y7 = {optimal_y7}\")\n",
    "    print(f\"y8 = {optimal_y8}\")\n",
    "    print(\"Optimal Primal Objective Value:\")\n",
    "    print(f\"Primal z = {optimal_dual_objective_value}\")\n",
    "    \n",
    "    # These should equal the optimal solution to the primal problem\n",
    "    print(\"Shadow Prices: \", (dual_constraint1.pi, dual_constraint2.pi, dual_constraint3.pi, dual_constraint4.pi, dual_constraint5.pi, dual_constraint6.pi))\n",
    "else:\n",
    "    print(\"No feasible solution found for the dual problem.\")"
   ]
  },
  {
   "cell_type": "code",
   "execution_count": 211,
   "metadata": {},
   "outputs": [
    {
     "name": "stdout",
     "output_type": "stream",
     "text": [
      "Optimal Solution:\n",
      "B11 = 0.0\n",
      "B12 = 0.0\n",
      "B13 = 5000.0\n",
      "B21 = 54054.05405405405\n",
      "B22 = 80945.94594594595\n",
      "B31 = 0.0\n",
      "Optimal Objective Value:\n",
      "z = 142904.72972972973\n",
      "Shadow Prices:  (0.0050000000000001155, 1.0175859950859951, 0.004914004914004844, 0.0, 0.0, 0.0, 0.0, 0.0)\n"
     ]
    }
   ],
   "source": [
    "# Print the results\n",
    "print(\"Optimal Solution:\")\n",
    "print(f\"B11 = {optimal_B11}\")\n",
    "print(f\"B12 = {optimal_B12}\")\n",
    "print(f\"B13 = {optimal_B13}\")\n",
    "print(f\"B21 = {optimal_B21}\")\n",
    "print(f\"B22 = {optimal_B22}\")\n",
    "print(f\"B31 = {optimal_B31}\")\n",
    "print(\"Optimal Objective Value:\")\n",
    "print(f\"z = {optimal_objective_value}\")\n",
    "    \n",
    "# These should equal the optimal solution to the dual problem\n",
    "print(\"Shadow Prices: \", (constraint4.pi, constraint5.pi, constraint6.pi, constraint7.pi, constraint8.pi, constraint9.pi, constraint10.pi, constraint11.pi))"
   ]
  },
  {
   "cell_type": "markdown",
   "metadata": {},
   "source": [
    "### (i) Which formulation, the primal or the dual model, do you think is easier to solve?"
   ]
  },
  {
   "cell_type": "markdown",
   "metadata": {},
   "source": [
    "#### The dual model is easier to solve as it has less decision variables 6 comparing to the primal model which has 8 decision variables"
   ]
  }
 ],
 "metadata": {
  "kernelspec": {
   "display_name": "Python 3",
   "language": "python",
   "name": "python3"
  },
  "language_info": {
   "codemirror_mode": {
    "name": "ipython",
    "version": 3
   },
   "file_extension": ".py",
   "mimetype": "text/x-python",
   "name": "python",
   "nbconvert_exporter": "python",
   "pygments_lexer": "ipython3",
   "version": "3.11.3"
  }
 },
 "nbformat": 4,
 "nbformat_minor": 2
}
